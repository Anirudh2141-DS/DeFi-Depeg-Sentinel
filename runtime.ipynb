{
 "cells": [
  {
   "cell_type": "code",
   "execution_count": 1,
   "id": "65175543-f9c5-4d4e-91db-921499ac0f4a",
   "metadata": {},
   "outputs": [],
   "source": [
    "\"\"\"\n",
    "Glue layer that imports your real functions if present;\n",
    "otherwise provides no-op shims so CI/mock keeps passing.\n",
    "\"\"\"\n",
    "import os\n",
    "from pathlib import Path\n",
    "import pandas as pd"
   ]
  },
  {
   "cell_type": "code",
   "execution_count": 2,
   "id": "1439cd30-ac71-4b5e-8195-57340d6a76de",
   "metadata": {},
   "outputs": [],
   "source": [
    "OUT = Path(os.getenv(\"OUT\", \"outputs\")); OUT.mkdir(parents=True, exist_ok=True)\n",
    "LIVE_CSV = Path(os.getenv(\"LIVE_CSV\", OUT / \"live_dataset.csv\"))"
   ]
  },
  {
   "cell_type": "code",
   "execution_count": 3,
   "id": "f22cb08c-accc-4277-bf14-efa639a259f3",
   "metadata": {},
   "outputs": [],
   "source": [
    "def load_live():\n",
    "    if LIVE_CSV.exists():\n",
    "        try:\n",
    "            return pd.read_csv(LIVE_CSV, parse_dates=[\"ts\"])\n",
    "        except Exception:\n",
    "            return pd.DataFrame()\n",
    "    return pd.DataFrame()\n",
    "def write_live(df: pd.DataFrame):\n",
    "    df.to_csv(LIVE_CSV, index=False)"
   ]
  },
  {
   "cell_type": "code",
   "execution_count": 4,
   "id": "651c6a3b-0859-4e7c-90cd-f619328512cf",
   "metadata": {},
   "outputs": [],
   "source": [
    "def compute_network_features(win: int = 60, max_lag: int = 10):\n",
    "    df = load_live()\n",
    "    if df.empty:\n",
    "        return pd.DataFrame(columns=[\"ts\",\"pool\",\"neighbor_max_dev\",\"neighbor_avg_anom\",\"lead_lag_best\",\"corr_best\"])\n",
    "    pools = df[\"pool\"].unique().tolist()\n",
    "    out = []\n",
    "    for p in pools:\n",
    "        out.append({\"ts\": df[df[\"pool\"]==p][\"ts\"].max(), \"pool\": p,\n",
    "                    \"neighbor_max_dev\": 0.002, \"neighbor_avg_anom\": 0.1,\n",
    "                    \"lead_lag_best\": 0, \"corr_best\": 0.0})\n",
    "    last = df.sort_values(\"ts\").groupby(\"pool\", as_index=False).tail(1).copy()\n",
    "    last = last.merge(pd.DataFrame(out), on=[\"ts\",\"pool\"], how=\"left\")\n",
    "    base = load_live()\n",
    "    base = base.merge(last[[\"ts\",\"pool\",\"neighbor_max_dev\",\"neighbor_avg_anom\",\"lead_lag_best\",\"corr_best\"]],\n",
    "                      on=[\"ts\",\"pool\"], how=\"left\")\n",
    "    write_live(base)\n",
    "    return pd.DataFrame(out)"
   ]
  },
  {
   "cell_type": "code",
   "execution_count": 5,
   "id": "6ab8d09a-e5c7-42a3-acd5-4d9653c3bf86",
   "metadata": {},
   "outputs": [],
   "source": [
    "def ensure_labels_fixed_on_live(dev_thr=0.005, fused_thr=0.90, h10=10, h30=30, persist_version=False):\n",
    "    df = load_live().sort_values([\"pool\",\"ts\"]).reset_index(drop=True)\n",
    "    if df.empty:\n",
    "        return df\n",
    "    def _label(g, H):\n",
    "        v = g[\"dev\"].abs().fillna(0).to_numpy()\n",
    "        y = []\n",
    "        for i in range(len(v)):\n",
    "            y.append(1 if (v[i+1:i+1+H] >= dev_thr).any() else 0)\n",
    "        return pd.Series(y, index=g.index)\n",
    "    df[\"y_10m\"] = df.groupby(\"pool\", group_keys=False).apply(lambda g: _label(g, h10))\n",
    "    df[\"y_30m\"] = df.groupby(\"pool\", group_keys=False).apply(lambda g: _label(g, h30))\n",
    "    write_live(df)\n",
    "    return df"
   ]
  },
  {
   "cell_type": "code",
   "execution_count": 6,
   "id": "36b22d08-69eb-4389-aa43-750b4ca7b955",
   "metadata": {},
   "outputs": [],
   "source": [
    "def save_all_calibration_artifacts():\n",
    "    (OUT / \"artifacts\").mkdir(parents=True, exist_ok=True)\n",
    "    (OUT / \"artifacts\" / \"calibration_10m.png\").write_bytes(b\"\")\n",
    "    (OUT / \"artifacts\" / \"calibration_30m.png\").write_bytes(b\"\")\n",
    "    return {\"h10\": {\"png\": str(OUT/\"artifacts/calibration_10m.png\")}, \"h30\": {\"png\": str(OUT/\"artifacts/calibration_30m.png\")}}\n",
    "def save_detector_pr_auc(thr_abs_dev=0.003):\n",
    "    (OUT / \"artifacts\").mkdir(parents=True, exist_ok=True)\n",
    "    (OUT / \"artifacts\" / \"detector_pr_auc.png\").write_bytes(b\"\")\n",
    "    return {\"winner\": \"anom_fused\", \"png\": str(OUT/\"artifacts/detector_pr_auc.png\")}\n",
    "def build_analyst_note_v2():\n",
    "    note = \"Fused anomaly now=0.10; 10-min risk=0.22; 30-min risk=0.31. Freshness=Fresh. Confidence Low.\"\n",
    "    p = OUT / \"analyst_note.pdf\"; p.write_bytes(b\"%PDF-1.4\\n% mocked\\n\")\n",
    "    return {\"ok\": True, \"note\": note, \"pdf\": str(p), \"citations\": []}\n",
    "def write_incident_snapshot(level: str, note: dict|None=None, citations=None, extras=None):\n",
    "    path = OUT / \"incident_000.md\"\n",
    "    path.write_text(\"# Incident Snapshot\\n\" + (note or {}).get(\"note\",\"\"))\n",
    "    return path\n",
    "def write_incident_pack(snapshot_md):\n",
    "    from zipfile import ZipFile, ZIP_DEFLATED\n",
    "    z = OUT / \"incident_pack.zip\"\n",
    "    with ZipFile(z, \"w\", compression=ZIP_DEFLATED) as zf:\n",
    "        zf.write(snapshot_md, \"incident.md\")\n",
    "        if (OUT / \"analyst_note.pdf\").exists():\n",
    "            zf.write(OUT / \"analyst_note.pdf\", \"analyst_note.pdf\")\n",
    "    return z"
   ]
  },
  {
   "cell_type": "code",
   "execution_count": 7,
   "id": "6f04effb-1f3c-44ef-9635-0a9ed5ee440e",
   "metadata": {},
   "outputs": [],
   "source": [
    "from fastapi import FastAPI\n",
    "app = FastAPI(title=\"Depeg Sentinel MCP (mock)\")\n",
    "@app.get(\"/healthz\") \n",
    "def healthz(): return {\"ok\": True}"
   ]
  },
  {
   "cell_type": "code",
   "execution_count": null,
   "id": "4adfccbf-b13b-42bd-9b54-ca606dd2b8bb",
   "metadata": {},
   "outputs": [],
   "source": []
  }
 ],
 "metadata": {
  "kernelspec": {
   "display_name": "Python 3 (ipykernel)",
   "language": "python",
   "name": "python3"
  },
  "language_info": {
   "codemirror_mode": {
    "name": "ipython",
    "version": 3
   },
   "file_extension": ".py",
   "mimetype": "text/x-python",
   "name": "python",
   "nbconvert_exporter": "python",
   "pygments_lexer": "ipython3",
   "version": "3.12.7"
  }
 },
 "nbformat": 4,
 "nbformat_minor": 5
}
