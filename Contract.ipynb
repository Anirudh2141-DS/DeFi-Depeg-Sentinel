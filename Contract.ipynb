{
 "cells": [
  {
   "cell_type": "code",
   "execution_count": 1,
   "id": "6f80f27d-2d78-4868-ab0f-9a08ee51aaf3",
   "metadata": {
    "scrolled": true
   },
   "outputs": [
    {
     "name": "stdout",
     "output_type": "stream",
     "text": [
      "Requirement already satisfied: vyper==0.3.10 in c:\\anaconda3\\lib\\site-packages (0.3.10)\n",
      "Requirement already satisfied: web3 in c:\\anaconda3\\lib\\site-packages (7.13.0)\n",
      "Requirement already satisfied: eth-account in c:\\anaconda3\\lib\\site-packages (0.13.7)\n",
      "Requirement already satisfied: hexbytes in c:\\anaconda3\\lib\\site-packages (1.3.1)\n",
      "Requirement already satisfied: cbor2<6,>=5.4.6 in c:\\anaconda3\\lib\\site-packages (from vyper==0.3.10) (5.7.0)\n",
      "Requirement already satisfied: asttokens<3,>=2.0.5 in c:\\anaconda3\\lib\\site-packages (from vyper==0.3.10) (2.4.1)\n",
      "Requirement already satisfied: pycryptodome<4,>=3.5.1 in c:\\anaconda3\\lib\\site-packages (from vyper==0.3.10) (3.23.0)\n",
      "Requirement already satisfied: packaging<24,>=23.1 in c:\\anaconda3\\lib\\site-packages (from vyper==0.3.10) (23.2)\n",
      "Requirement already satisfied: importlib-metadata in c:\\anaconda3\\lib\\site-packages (from vyper==0.3.10) (8.5.0)\n",
      "Requirement already satisfied: wheel in c:\\users\\aniru\\appdata\\roaming\\python\\python312\\site-packages (from vyper==0.3.10) (0.45.1)\n",
      "Requirement already satisfied: six>=1.12.0 in c:\\anaconda3\\lib\\site-packages (from asttokens<3,>=2.0.5->vyper==0.3.10) (1.17.0)\n",
      "Requirement already satisfied: eth-abi>=5.0.1 in c:\\anaconda3\\lib\\site-packages (from web3) (5.2.0)\n",
      "Requirement already satisfied: eth-hash>=0.5.1 in c:\\anaconda3\\lib\\site-packages (from eth-hash[pycryptodome]>=0.5.1->web3) (0.7.1)\n",
      "Requirement already satisfied: eth-typing>=5.0.0 in c:\\anaconda3\\lib\\site-packages (from web3) (5.2.1)\n",
      "Requirement already satisfied: eth-utils>=5.0.0 in c:\\anaconda3\\lib\\site-packages (from web3) (5.3.0)\n",
      "Requirement already satisfied: aiohttp>=3.7.4.post0 in c:\\anaconda3\\lib\\site-packages (from web3) (3.11.10)\n",
      "Requirement already satisfied: pydantic>=2.4.0 in c:\\users\\aniru\\appdata\\roaming\\python\\python312\\site-packages (from web3) (2.11.7)\n",
      "Requirement already satisfied: pywin32>=223 in c:\\anaconda3\\lib\\site-packages (from web3) (308)\n",
      "Requirement already satisfied: requests>=2.23.0 in c:\\anaconda3\\lib\\site-packages (from web3) (2.32.4)\n",
      "Requirement already satisfied: typing-extensions>=4.0.1 in c:\\anaconda3\\lib\\site-packages (from web3) (4.14.1)\n",
      "Requirement already satisfied: types-requests>=2.0.0 in c:\\anaconda3\\lib\\site-packages (from web3) (2.32.4.20250809)\n",
      "Requirement already satisfied: websockets<16.0.0,>=10.0.0 in c:\\users\\aniru\\appdata\\roaming\\python\\python312\\site-packages (from web3) (15.0.1)\n",
      "Requirement already satisfied: pyunormalize>=15.0.0 in c:\\anaconda3\\lib\\site-packages (from web3) (16.0.0)\n",
      "Requirement already satisfied: bitarray>=2.4.0 in c:\\anaconda3\\lib\\site-packages (from eth-account) (3.6.1)\n",
      "Requirement already satisfied: eth-keyfile<0.9.0,>=0.7.0 in c:\\anaconda3\\lib\\site-packages (from eth-account) (0.8.1)\n",
      "Requirement already satisfied: eth-keys>=0.4.0 in c:\\anaconda3\\lib\\site-packages (from eth-account) (0.7.0)\n",
      "Requirement already satisfied: eth-rlp>=2.1.0 in c:\\anaconda3\\lib\\site-packages (from eth-account) (2.2.0)\n",
      "Requirement already satisfied: rlp>=1.0.0 in c:\\anaconda3\\lib\\site-packages (from eth-account) (4.1.0)\n",
      "Requirement already satisfied: ckzg>=2.0.0 in c:\\anaconda3\\lib\\site-packages (from eth-account) (2.1.1)\n",
      "Requirement already satisfied: aiohappyeyeballs>=2.3.0 in c:\\anaconda3\\lib\\site-packages (from aiohttp>=3.7.4.post0->web3) (2.4.4)\n",
      "Requirement already satisfied: aiosignal>=1.1.2 in c:\\anaconda3\\lib\\site-packages (from aiohttp>=3.7.4.post0->web3) (1.2.0)\n",
      "Requirement already satisfied: attrs>=17.3.0 in c:\\anaconda3\\lib\\site-packages (from aiohttp>=3.7.4.post0->web3) (24.3.0)\n",
      "Requirement already satisfied: frozenlist>=1.1.1 in c:\\anaconda3\\lib\\site-packages (from aiohttp>=3.7.4.post0->web3) (1.5.0)\n",
      "Requirement already satisfied: multidict<7.0,>=4.5 in c:\\anaconda3\\lib\\site-packages (from aiohttp>=3.7.4.post0->web3) (6.1.0)\n",
      "Requirement already satisfied: propcache>=0.2.0 in c:\\anaconda3\\lib\\site-packages (from aiohttp>=3.7.4.post0->web3) (0.3.1)\n",
      "Requirement already satisfied: yarl<2.0,>=1.17.0 in c:\\anaconda3\\lib\\site-packages (from aiohttp>=3.7.4.post0->web3) (1.18.0)\n",
      "Requirement already satisfied: idna>=2.0 in c:\\anaconda3\\lib\\site-packages (from yarl<2.0,>=1.17.0->aiohttp>=3.7.4.post0->web3) (3.10)\n",
      "Requirement already satisfied: parsimonious<0.11.0,>=0.10.0 in c:\\anaconda3\\lib\\site-packages (from eth-abi>=5.0.1->web3) (0.10.0)\n",
      "Requirement already satisfied: regex>=2022.3.15 in c:\\anaconda3\\lib\\site-packages (from parsimonious<0.11.0,>=0.10.0->eth-abi>=5.0.1->web3) (2025.7.34)\n",
      "Requirement already satisfied: cytoolz>=0.10.1 in c:\\anaconda3\\lib\\site-packages (from eth-utils>=5.0.0->web3) (1.0.1)\n",
      "Requirement already satisfied: annotated-types>=0.6.0 in c:\\users\\aniru\\appdata\\roaming\\python\\python312\\site-packages (from pydantic>=2.4.0->web3) (0.7.0)\n",
      "Requirement already satisfied: pydantic-core==2.33.2 in c:\\users\\aniru\\appdata\\roaming\\python\\python312\\site-packages (from pydantic>=2.4.0->web3) (2.33.2)\n",
      "Requirement already satisfied: typing-inspection>=0.4.0 in c:\\users\\aniru\\appdata\\roaming\\python\\python312\\site-packages (from pydantic>=2.4.0->web3) (0.4.1)\n",
      "Requirement already satisfied: toolz>=0.8.0 in c:\\users\\aniru\\appdata\\roaming\\python\\python312\\site-packages (from cytoolz>=0.10.1->eth-utils>=5.0.0->web3) (1.0.0)\n",
      "Requirement already satisfied: urllib3>=2 in c:\\anaconda3\\lib\\site-packages (from types-requests>=2.0.0->web3) (2.5.0)\n",
      "Requirement already satisfied: zipp>=3.20 in c:\\anaconda3\\lib\\site-packages (from importlib-metadata->vyper==0.3.10) (3.21.0)\n"
     ]
    }
   ],
   "source": [
    "!pip install \"vyper==0.3.10\" web3 eth-account hexbytes"
   ]
  },
  {
   "cell_type": "code",
   "execution_count": 2,
   "id": "37cb8f11-8128-48ff-8a83-cfc274664ba4",
   "metadata": {},
   "outputs": [
    {
     "name": "stdout",
     "output_type": "stream",
     "text": [
      "Requirement already satisfied: fsspec<=2025.3.0,>=2023.1.0 in c:\\anaconda3\\lib\\site-packages (2025.3.0)\n"
     ]
    }
   ],
   "source": [
    "!pip install \"fsspec>=2023.1.0,<=2025.3.0\""
   ]
  },
  {
   "cell_type": "code",
   "execution_count": 21,
   "id": "42fa312e-ff17-4b39-9462-609e1198e039",
   "metadata": {},
   "outputs": [],
   "source": [
    "import os, sys, json, textwrap, subprocess, shutil, time\n",
    "from pathlib import Path"
   ]
  },
  {
   "cell_type": "code",
   "execution_count": 29,
   "id": "8d8ce908-a08a-47e2-a0b3-4240bf8d40e1",
   "metadata": {},
   "outputs": [],
   "source": [
    "def _in_notebook():\n",
    "    try:\n",
    "        from IPython import get_ipython  \n",
    "        return True\n",
    "    except Exception:\n",
    "        return False\n",
    "def _pip_install(pkgs):\n",
    "    \"\"\"Install packages within Jupyter (uses %pip) or subprocess fallback.\"\"\"\n",
    "    if not pkgs:\n",
    "        return\n",
    "    if _in_notebook():\n",
    "        try:\n",
    "            from IPython import get_ipython\n",
    "            get_ipython().run_line_magic(\"pip\", \"install -q --disable-pip-version-check \" + \" \".join(pkgs))\n",
    "            return\n",
    "        except Exception:\n",
    "            pass\n",
    "    subprocess.check_call([sys.executable, \"-m\", \"pip\", \"install\", \"--upgrade\", *pkgs])"
   ]
  },
  {
   "cell_type": "code",
   "execution_count": 30,
   "id": "8e5a3cf7-11a6-4e56-b655-009e05fc4340",
   "metadata": {},
   "outputs": [
    {
     "name": "stdout",
     "output_type": "stream",
     "text": [
      "[paths] BASE_DIR=C:\\Users\\aniru\\OneDrive\\Desktop\\ML tutorial\\DEFI Depeg sentinel\n",
      "[paths] ART=C:\\Users\\aniru\\OneDrive\\Desktop\\ML tutorial\\DEFI Depeg sentinel\\artifacts\n"
     ]
    }
   ],
   "source": [
    "BASE_DIR = Path(r\"C:\\Users\\aniru\\OneDrive\\Desktop\\ML tutorial\\DEFI Depeg sentinel\")\n",
    "if not BASE_DIR.exists():\n",
    "    BASE_DIR = Path.cwd() / \"DEFI_Depeg_sentinel\"\n",
    "ART = BASE_DIR / \"artifacts\"\n",
    "ART.mkdir(parents=True, exist_ok=True)\n",
    "print(f\"[paths] BASE_DIR={BASE_DIR}\")\n",
    "print(f\"[paths] ART={ART}\")"
   ]
  },
  {
   "cell_type": "code",
   "execution_count": 31,
   "id": "b0126f54-36fe-4cfb-853f-6635b47b1bcf",
   "metadata": {},
   "outputs": [],
   "source": [
    "vy_source = textwrap.dedent(r\"\"\"\n",
    "# @version ^0.3.9\n",
    "\n",
    "MAX_BPS: constant(uint256) = 10_000\n",
    "\n",
    "name: public(String[32])\n",
    "symbol: public(String[16])\n",
    "decimals: public(uint8)\n",
    "\n",
    "owner: public(address)\n",
    "minter: public(address)\n",
    "treasury: public(address)\n",
    "treasury_bps: public(uint256)\n",
    "\n",
    "paused: public(bool)\n",
    "total_supply: public(uint256)\n",
    "\n",
    "balances: HashMap[address, uint256]\n",
    "allowances: HashMap[address, HashMap[address, uint256]]\n",
    "\n",
    "used_block: HashMap[bytes32, bool]\n",
    "\n",
    "event Transfer:\n",
    "    sender: address\n",
    "    receiver: address\n",
    "    value: uint256\n",
    "\n",
    "event Approval:\n",
    "    owner: address\n",
    "    spender: address\n",
    "    value: uint256\n",
    "\n",
    "event DataBlockSubmitted:\n",
    "    block_hash: bytes32\n",
    "    anomaly_bps: uint256\n",
    "    novelty_bps: uint256\n",
    "    severity: uint256\n",
    "    reward: uint256\n",
    "    to: address\n",
    "\n",
    "@external\n",
    "def __init__(name_: String[32], symbol_: String[16], treasury_: address, minter_: address, treasury_bps_: uint256):\n",
    "    self.name = name_\n",
    "    self.symbol = symbol_\n",
    "    self.decimals = 18\n",
    "    self.owner = msg.sender\n",
    "    self.minter = minter_\n",
    "    self.treasury = treasury_\n",
    "    assert treasury_bps_ <= MAX_BPS\n",
    "    self.treasury_bps = treasury_bps_\n",
    "    self.paused = False\n",
    "    self.total_supply = 0\n",
    "\n",
    "@internal\n",
    "def _only_owner():\n",
    "    assert msg.sender == self.owner, \"only owner\"\n",
    "\n",
    "@internal\n",
    "def _only_minter():\n",
    "    assert msg.sender == self.minter, \"only minter\"\n",
    "\n",
    "@external\n",
    "def set_minter(a: address):\n",
    "    self._only_owner()\n",
    "    self.minter = a\n",
    "\n",
    "@external\n",
    "def set_treasury(a: address):\n",
    "    self._only_owner()\n",
    "    self.treasury = a\n",
    "\n",
    "@external\n",
    "def set_treasury_bps(bps: uint256):\n",
    "    self._only_owner()\n",
    "    assert bps <= MAX_BPS\n",
    "    self.treasury_bps = bps\n",
    "\n",
    "@external\n",
    "def pause():\n",
    "    self._only_owner()\n",
    "    self.paused = True\n",
    "\n",
    "@external\n",
    "def unpause():\n",
    "    self._only_owner()\n",
    "    self.paused = False\n",
    "\n",
    "@view\n",
    "@external\n",
    "def used(blk: bytes32) -> bool:\n",
    "    return self.used_block[blk]\n",
    "\n",
    "@internal\n",
    "def _mint(to: address, amount: uint256):\n",
    "    assert to != empty(address)\n",
    "    self.total_supply += amount\n",
    "    self.balances[to] += amount\n",
    "    log Transfer(empty(address), to, amount)\n",
    "\n",
    "@internal\n",
    "def _transfer(frm: address, to: address, amount: uint256):\n",
    "    assert to != empty(address)\n",
    "    assert self.balances[frm] >= amount\n",
    "    self.balances[frm] -= amount\n",
    "    self.balances[to] += amount\n",
    "    log Transfer(frm, to, amount)\n",
    "\n",
    "@external\n",
    "def transfer(to: address, amount: uint256) -> bool:\n",
    "    assert not self.paused\n",
    "    self._transfer(msg.sender, to, amount)\n",
    "    return True\n",
    "\n",
    "@external\n",
    "def approve(spender: address, amount: uint256) -> bool:\n",
    "    self.allowances[msg.sender][spender] = amount\n",
    "    log Approval(msg.sender, spender, amount)\n",
    "    return True\n",
    "\n",
    "@external\n",
    "def transferFrom(frm: address, to: address, amount: uint256) -> bool:\n",
    "    assert not self.paused\n",
    "    allowed: uint256 = self.allowances[frm][msg.sender]\n",
    "    assert allowed >= amount\n",
    "    self.allowances[frm][msg.sender] = allowed - amount\n",
    "    self._transfer(frm, to, amount)\n",
    "    return True\n",
    "\n",
    "@view\n",
    "@external\n",
    "def balanceOf(a: address) -> uint256:\n",
    "    return self.balances[a]\n",
    "\n",
    "@internal\n",
    "def _compute_reward(anomaly_bps: uint256, novelty_bps: uint256, severity: uint256) -> uint256:\n",
    "    assert anomaly_bps <= MAX_BPS\n",
    "    assert novelty_bps <= MAX_BPS\n",
    "    assert 1 <= severity and severity <= 5\n",
    "    base: uint256 = 10 ** 18  # 1 token unit\n",
    "    return base * (anomaly_bps + novelty_bps) * severity / (MAX_BPS * 5)\n",
    "\n",
    "@external\n",
    "def submit_data_block(block_hash: bytes32, anomaly_bps: uint256, novelty_bps: uint256, severity: uint256, recipient: address) -> uint256:\n",
    "    self._only_minter()\n",
    "    assert not self.paused\n",
    "    assert recipient != empty(address)\n",
    "    assert not self.used_block[block_hash], \"dup\"\n",
    "    self.used_block[block_hash] = True\n",
    "\n",
    "    reward: uint256 = self._compute_reward(anomaly_bps, novelty_bps, severity)\n",
    "    t_fee: uint256 = reward * self.treasury_bps / MAX_BPS\n",
    "    net: uint256 = reward - t_fee\n",
    "\n",
    "    if t_fee > 0:\n",
    "        self._mint(self.treasury, t_fee)\n",
    "    self._mint(recipient, net)\n",
    "\n",
    "    log DataBlockSubmitted(block_hash, anomaly_bps, novelty_bps, severity, reward, recipient)\n",
    "    return reward\n",
    "\"\"\")"
   ]
  },
  {
   "cell_type": "code",
   "execution_count": 32,
   "id": "0c312339-daf5-4580-8981-a2d661ad9426",
   "metadata": {},
   "outputs": [],
   "source": [
    "def compile_vyper_verbose(src: str):\n",
    "    (ART / \"SentinelDataToken.vy\").write_text(src, encoding=\"utf-8\")\n",
    "    try:\n",
    "        import vyper  \n",
    "    except ModuleNotFoundError:\n",
    "        _pip_install([\"vyper\"])\n",
    "        import vyper  \n",
    "    try:\n",
    "        import vyper\n",
    "        out = vyper.compile_code(src, output_formats=[\"abi\", \"bytecode\"])\n",
    "        abi, bytecode = out[\"abi\"], out[\"bytecode\"]\n",
    "        if isinstance(bytecode, (bytes, bytearray)):\n",
    "            bytecode = \"0x\" + bytecode.hex()\n",
    "        print(\"[vyper] compiled via Python API\")\n",
    "        return {\"abi\": abi, \"bytecode\": bytecode}\n",
    "    except Exception as e:\n",
    "        print(\"[vyper] Python API failed:\", e)\n",
    "        exe = shutil.which(\"vyper\")\n",
    "        cmd = [exe] if exe else [sys.executable, \"-m\", \"vyper\"]\n",
    "        def run(args):\n",
    "            r = subprocess.run(cmd + args, capture_output=True, text=True)\n",
    "            if r.returncode != 0:\n",
    "                raise RuntimeError(r.stderr.strip() or r.stdout.strip() or \"vyper CLI error\")\n",
    "            return r.stdout.strip()\n",
    "        abi_json = run([\"-f\", \"abi\", str(ART / \"SentinelDataToken.vy\")])\n",
    "        byte_hex = run([\"-f\", \"bytecode\", str(ART / \"SentinelDataToken.vy\")])\n",
    "        if not byte_hex.startswith(\"0x\"): byte_hex = \"0x\" + byte_hex\n",
    "        print(\"[vyper] compiled via CLI\")\n",
    "        return {\"abi\": json.loads(abi_json), \"bytecode\": byte_hex}"
   ]
  },
  {
   "cell_type": "code",
   "execution_count": 33,
   "id": "edada6d5-309a-4c79-b515-d0f7ee2e54bd",
   "metadata": {},
   "outputs": [
    {
     "name": "stdout",
     "output_type": "stream",
     "text": [
      "[vyper] compiled via Python API\n",
      "[artifacts] wrote ABI & bytecode\n"
     ]
    }
   ],
   "source": [
    "compiled = compile_vyper_verbose(vy_source)\n",
    "(ART / \"SentinelDataToken.abi.json\").write_text(json.dumps(compiled[\"abi\"], indent=2))\n",
    "(ART / \"SentinelDataToken.bin\").write_text(compiled[\"bytecode\"])\n",
    "print(\"[artifacts] wrote ABI & bytecode\")"
   ]
  },
  {
   "cell_type": "code",
   "execution_count": 34,
   "id": "a31f7f30-f3cd-4db6-b8cb-7b573b433833",
   "metadata": {},
   "outputs": [],
   "source": [
    "try:\n",
    "    from web3 import Web3\n",
    "except ModuleNotFoundError:\n",
    "    _pip_install([\"web3\"])\n",
    "    from web3 import Web3"
   ]
  },
  {
   "cell_type": "code",
   "execution_count": 35,
   "id": "91f590a9-9e40-49f1-b5ac-ed5bac2ffaab",
   "metadata": {},
   "outputs": [],
   "source": [
    "def get_web3_and_signer():\n",
    "    rpc = os.getenv(\"WEB3_RPC_URL\", \"http://127.0.0.1:8545\")\n",
    "    w3 = Web3(Web3.HTTPProvider(rpc))\n",
    "    if w3.is_connected():\n",
    "        try:\n",
    "            from eth_account import Account\n",
    "        except ModuleNotFoundError:\n",
    "            _pip_install([\"eth-account\"])\n",
    "            from eth_account import Account\n",
    "        pk = os.getenv(\"PRIVATE_KEY\", \"\").strip()\n",
    "        if pk:\n",
    "            acct = Account.from_key(pk)\n",
    "            return w3, acct.address, acct, \"http+pk\"\n",
    "        try:\n",
    "            sender = w3.eth.accounts[0]\n",
    "            return w3, sender, None, \"http+unlocked\"\n",
    "        except Exception:\n",
    "            raise SystemExit(\n",
    "                \"HTTP provider reachable but no signer available.\\n\"\n",
    "                \"Set PRIVATE_KEY for hosted RPC, or unlock an account on the local node.\"\n",
    "            )\n",
    "    try:\n",
    "        from web3.providers.eth_tester import EthereumTesterProvider\n",
    "        from eth_tester import EthereumTester\n",
    "    except ModuleNotFoundError:\n",
    "        _pip_install([\"eth-tester\", \"py-evm\"])\n",
    "        from web3.providers.eth_tester import EthereumTesterProvider\n",
    "        from eth_tester import EthereumTester\n",
    "    w3 = Web3(EthereumTesterProvider(EthereumTester()))\n",
    "    sender = w3.eth.accounts[0]\n",
    "    return w3, sender, None, \"tester\""
   ]
  },
  {
   "cell_type": "code",
   "execution_count": 36,
   "id": "33e1db0d-1ed4-40dc-83d0-2311b85a9663",
   "metadata": {},
   "outputs": [
    {
     "name": "stdout",
     "output_type": "stream",
     "text": [
      "Note: you may need to restart the kernel to use updated packages.\n",
      "[rpc] connected via tester, chainId=131277322940537, sender=0x7E5F4552091A69125d5DfCb7b8C2659029395Bdf\n"
     ]
    }
   ],
   "source": [
    "w3, sender, acct, mode = get_web3_and_signer()\n",
    "print(f\"[rpc] connected via {mode}, chainId={w3.eth.chain_id}, sender={sender}\")"
   ]
  },
  {
   "cell_type": "code",
   "execution_count": 37,
   "id": "4ca1e2d0-dc88-4e4c-9ef9-88037326aa8b",
   "metadata": {},
   "outputs": [],
   "source": [
    "abi = compiled[\"abi\"]; bytecode = compiled[\"bytecode\"]\n",
    "Token = w3.eth.contract(abi=abi, bytecode=bytecode)\n",
    "NAME, SYMB = \"SentinelData\", \"SDT\"\n",
    "TREASURY, MINTER = sender, sender\n",
    "TREASURY_BPS = 500"
   ]
  },
  {
   "cell_type": "code",
   "execution_count": 38,
   "id": "eb2021b1-4442-461d-9048-29224d28b3b1",
   "metadata": {},
   "outputs": [],
   "source": [
    "def deploy():\n",
    "    if acct is None:\n",
    "        tx_hash = Token.constructor(NAME, SYMB, TREASURY, MINTER, TREASURY_BPS).transact({\"from\": sender})\n",
    "        rcpt = w3.eth.wait_for_transaction_receipt(tx_hash)\n",
    "    else:\n",
    "        tx = Token.constructor(NAME, SYMB, TREASURY, MINTER, TREASURY_BPS).build_transaction({\n",
    "            \"from\": sender,\n",
    "            \"nonce\": w3.eth.get_transaction_count(sender),\n",
    "            \"gas\": 2_500_000,\n",
    "            \"gasPrice\": w3.eth.gas_price,\n",
    "            \"chainId\": w3.eth.chain_id,\n",
    "        })\n",
    "        signed = w3.eth.account.sign_transaction(tx, acct.key)\n",
    "        tx_hash = w3.eth.send_raw_transaction(signed.rawTransaction)\n",
    "        rcpt = w3.eth.wait_for_transaction_receipt(tx_hash)\n",
    "    return rcpt"
   ]
  },
  {
   "cell_type": "code",
   "execution_count": 39,
   "id": "49953dd0-7c3b-469c-b9b2-7c735a6933f1",
   "metadata": {},
   "outputs": [
    {
     "name": "stdout",
     "output_type": "stream",
     "text": [
      "[deploy] SentinelDataToken @ 0xF2E246BB76DF876Cef8b38ae84130F4F55De395b\n"
     ]
    }
   ],
   "source": [
    "rcpt = deploy()\n",
    "addr = rcpt.contractAddress\n",
    "print(f\"[deploy] SentinelDataToken @ {addr}\")\n",
    "token = w3.eth.contract(address=addr, abi=abi)"
   ]
  },
  {
   "cell_type": "code",
   "execution_count": 40,
   "id": "86ce27e0-d5d1-47fb-bd24-4b859dedcef8",
   "metadata": {},
   "outputs": [
    {
     "name": "stdout",
     "output_type": "stream",
     "text": [
      "name = SentinelData\n",
      "symbol = SDT\n",
      "decimals = 18\n",
      "treasury_bps = 500\n",
      "owner = 0x7E5F4552091A69125d5DfCb7b8C2659029395Bdf\n",
      "minter = 0x7E5F4552091A69125d5DfCb7b8C2659029395Bdf\n",
      "totalSupply = 0\n"
     ]
    }
   ],
   "source": [
    "print(\"name =\", token.functions.name().call())\n",
    "print(\"symbol =\", token.functions.symbol().call())\n",
    "print(\"decimals =\", token.functions.decimals().call())\n",
    "print(\"treasury_bps =\", token.functions.treasury_bps().call())\n",
    "print(\"owner =\", token.functions.owner().call())\n",
    "print(\"minter =\", token.functions.minter().call())\n",
    "print(\"totalSupply =\", token.functions.total_supply().call())"
   ]
  },
  {
   "cell_type": "code",
   "execution_count": 41,
   "id": "40c24533-9edb-4a0f-b5d0-907a1a8fe115",
   "metadata": {},
   "outputs": [],
   "source": [
    "payload = {\"ts\": int(time.time()), \"pool\": \"USDC/USDT\", \"anom\": 820, \"novel\": 430, \"sev\": 3}\n",
    "blob = json.dumps(payload, sort_keys=True)\n",
    "blk_hash = w3.keccak(text=blob)  \n",
    "anomaly_bps = 820\n",
    "novelty_bps = 430\n",
    "severity    = 3\n",
    "recipient   = sender\n",
    "bal0 = token.functions.balanceOf(recipient).call()\n",
    "ts0  = token.functions.total_supply().call()"
   ]
  },
  {
   "cell_type": "code",
   "execution_count": 42,
   "id": "2aecc595-d35e-46cb-bd09-1ca828e2308c",
   "metadata": {},
   "outputs": [],
   "source": [
    "def submit():\n",
    "    fn = token.functions.submit_data_block(blk_hash, anomaly_bps, novelty_bps, severity, recipient)\n",
    "    if acct is None:\n",
    "        tx_hash = fn.transact({\"from\": sender})\n",
    "        rcpt = w3.eth.wait_for_transaction_receipt(tx_hash)\n",
    "    else:\n",
    "        tx = fn.build_transaction({\n",
    "            \"from\": sender,\n",
    "            \"nonce\": w3.eth.get_transaction_count(sender),\n",
    "            \"gas\": 250000,\n",
    "            \"gasPrice\": w3.eth.gas_price,\n",
    "            \"chainId\": w3.eth.chain_id,\n",
    "        })\n",
    "        signed = w3.eth.account.sign_transaction(tx, acct.key)\n",
    "        tx_hash = w3.eth.send_raw_transaction(signed.rawTransaction)\n",
    "        rcpt = w3.eth.wait_for_transaction_receipt(tx_hash)\n",
    "    return rcpt"
   ]
  },
  {
   "cell_type": "code",
   "execution_count": 43,
   "id": "3dc17075-b2a7-486b-8f0b-0b280e4e7229",
   "metadata": {},
   "outputs": [],
   "source": [
    "rcpt_submit = submit()\n",
    "bal1 = token.functions.balanceOf(recipient).call()\n",
    "ts1  = token.functions.total_supply().call()\n",
    "treasury = token.functions.treasury().call()\n",
    "tbal  = token.functions.balanceOf(treasury).call()"
   ]
  },
  {
   "cell_type": "code",
   "execution_count": 44,
   "id": "cb2c4173-75b2-4269-9c07-db29df6ac75e",
   "metadata": {},
   "outputs": [
    {
     "name": "stdout",
     "output_type": "stream",
     "text": [
      "[submit] status=1 gasUsed=104446\n",
      "recipient balance delta = 75000000000000000\n",
      "totalSupply delta = 75000000000000000\n",
      "treasury = 0x7E5F4552091A69125d5DfCb7b8C2659029395Bdf treasury balance = 75000000000000000\n"
     ]
    }
   ],
   "source": [
    "print(f\"[submit] status={rcpt_submit.status} gasUsed={rcpt_submit.gasUsed}\")\n",
    "print(\"recipient balance delta =\", bal1 - bal0)\n",
    "print(\"totalSupply delta =\", ts1 - ts0)\n",
    "print(\"treasury =\", treasury, \"treasury balance =\", tbal)"
   ]
  },
  {
   "cell_type": "code",
   "execution_count": 45,
   "id": "e11ca2f8-83ce-431f-9cbe-981ff4ac4ff2",
   "metadata": {},
   "outputs": [
    {
     "name": "stdout",
     "output_type": "stream",
     "text": [
      "[event] DataBlockSubmitted: {'block_hash': 'a0ddeab799e3173ce5f63f228b0be34e188a8e90c7dc48d88debd2043d2fbdea', 'anomaly_bps': 820, 'novelty_bps': 430, 'severity': 3, 'reward': 75000000000000000, 'to': '0x7E5F4552091A69125d5DfCb7b8C2659029395Bdf'}\n"
     ]
    },
    {
     "name": "stderr",
     "output_type": "stream",
     "text": [
      "C:\\Anaconda3\\Lib\\site-packages\\eth_utils\\functional.py:47: UserWarning: The log with transaction hash: HexBytes('0x3c98d4b58e8d67a48196abb9bbc3bd935069c0519765d65231d566ef99c8acbb') and logIndex: 0 encountered the following error during processing: MismatchedABI(The event signature did not match the provided ABI). It has been discarded.\n",
      "  return callback(fn(*args, **kwargs))\n",
      "C:\\Anaconda3\\Lib\\site-packages\\eth_utils\\functional.py:47: UserWarning: The log with transaction hash: HexBytes('0x3c98d4b58e8d67a48196abb9bbc3bd935069c0519765d65231d566ef99c8acbb') and logIndex: 1 encountered the following error during processing: MismatchedABI(The event signature did not match the provided ABI). It has been discarded.\n",
      "  return callback(fn(*args, **kwargs))\n"
     ]
    }
   ],
   "source": [
    "try:\n",
    "    evt = token.events.DataBlockSubmitted().process_receipt(rcpt_submit)\n",
    "    if evt:\n",
    "        e0 = evt[0][\"args\"]\n",
    "        print(\"[event] DataBlockSubmitted:\",\n",
    "              dict(block_hash=e0[\"block_hash\"].hex(),\n",
    "                   anomaly_bps=e0[\"anomaly_bps\"],\n",
    "                   novelty_bps=e0[\"novelty_bps\"],\n",
    "                   severity=e0[\"severity\"],\n",
    "                   reward=e0[\"reward\"],\n",
    "                   to=e0[\"to\"]))\n",
    "except Exception as _e:\n",
    "    print(\"[event] decode skipped:\", _e)"
   ]
  },
  {
   "cell_type": "code",
   "execution_count": 46,
   "id": "91407319-1583-4293-959e-d5761b902251",
   "metadata": {},
   "outputs": [
    {
     "name": "stdout",
     "output_type": "stream",
     "text": [
      "\n",
      "All done\n"
     ]
    }
   ],
   "source": [
    "print(\"\\nAll done\")"
   ]
  },
  {
   "cell_type": "code",
   "execution_count": null,
   "id": "ec194488-caf5-409d-af58-588a7fa72ff9",
   "metadata": {},
   "outputs": [],
   "source": []
  }
 ],
 "metadata": {
  "kernelspec": {
   "display_name": "Python 3 (ipykernel)",
   "language": "python",
   "name": "python3"
  },
  "language_info": {
   "codemirror_mode": {
    "name": "ipython",
    "version": 3
   },
   "file_extension": ".py",
   "mimetype": "text/x-python",
   "name": "python",
   "nbconvert_exporter": "python",
   "pygments_lexer": "ipython3",
   "version": "3.12.7"
  }
 },
 "nbformat": 4,
 "nbformat_minor": 5
}
