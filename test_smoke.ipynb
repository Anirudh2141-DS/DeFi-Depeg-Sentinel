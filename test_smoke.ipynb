{
 "cells": [
  {
   "cell_type": "code",
   "execution_count": 1,
   "id": "e51dfa82-1877-4f7a-a275-38864573d180",
   "metadata": {},
   "outputs": [],
   "source": [
    "import os, json\n",
    "from pathlib import Path\n",
    "import numpy as np\n",
    "import pandas as pd\n",
    "import pytest"
   ]
  },
  {
   "cell_type": "code",
   "execution_count": 3,
   "id": "e628725f-f12f-416f-8d3e-a6c263ba70cd",
   "metadata": {},
   "outputs": [],
   "source": [
    "def _mk_live(tmp):\n",
    "    out = Path(tmp) / \"outputs\"\n",
    "    out.mkdir(parents=True, exist_ok=True)\n",
    "    live = out / \"live_dataset.csv\"\n",
    "    ts = pd.date_range(\"2025-01-01\", periods=25, freq=\"min\", tz=\"UTC\")\n",
    "    pools = [\"USDC/USDT-uni\", \"DAI/USDC-curve\"]\n",
    "    rows = []\n",
    "    for p in pools:\n",
    "        dev = np.linspace(0, 0.008, len(ts))  \n",
    "        rows += [{\"ts\": t, \"pool\": p, \"dev\": d, \"anam\": 0.0, \"dex_spot\": 1.0, \"feeds_fresh\": True} for t, d in zip(ts, dev)]\n",
    "    df = pd.DataFrame(rows)\n",
    "    df[\"anom_fused\"] = 0.0\n",
    "    df.to_csv(live, index=False)\n",
    "    return out, live"
   ]
  },
  {
   "cell_type": "code",
   "execution_count": 4,
   "id": "d997793f-856b-44c9-8ee9-0dc17c8f8d88",
   "metadata": {},
   "outputs": [],
   "source": [
    "@pytest.fixture()\n",
    "def monkey_env(tmp_path, monkeypatch):\n",
    "    out, live = _mk_live(tmp_path)\n",
    "    monkeypatch.setenv(\"MOCK_MODE\", \"1\")\n",
    "    monkeypatch.setenv(\"OUT\", str(out))\n",
    "    monkeypatch.setenv(\"LIVE_CSV\", str(live))\n",
    "    return out, live"
   ]
  },
  {
   "cell_type": "code",
   "execution_count": 5,
   "id": "dc74f49c-c834-4d5e-bea7-971fb0f20cdf",
   "metadata": {},
   "outputs": [],
   "source": [
    "def test_feature_engineering_smoke(monkey_env):\n",
    "    out, live = monkey_env\n",
    "    import sys\n",
    "    sys.path.append(str(Path(\".\")))  \n",
    "    df = pd.read_csv(live, parse_dates=[\"ts\"])\n",
    "    assert {\"ts\", \"pool\", \"dev\"}.issubset(df.columns)\n",
    "    try:\n",
    "        from sentinel_runtime import compute_network_features  \n",
    "    except Exception:\n",
    "        compute_network_features = None\n",
    "    if compute_network_features:\n",
    "        res = compute_network_features(win=20, max_lag=5)\n",
    "        assert set([\"pool\", \"neighbor_max_dev\", \"neighbor_avg_anom\", \"lead_lag_best\", \"corr_best\"]).issubset(res.columns)"
   ]
  },
  {
   "cell_type": "code",
   "execution_count": 6,
   "id": "33b89c21-055b-4d4f-bcae-b7e58fd33819",
   "metadata": {},
   "outputs": [],
   "source": [
    "def test_anomaly_fusion_monotone(monkey_env):\n",
    "    out, live = monkey_env\n",
    "    df = pd.read_csv(live, parse_dates=[\"ts\"])\n",
    "    df[\"z_if\"] = [0.1, 0.2] * (len(df)//2) + [0.1] * (len(df) % 2)\n",
    "    df[\"z_lof\"] = 0.05\n",
    "    df[\"z_ocsvm\"] = 0.0\n",
    "    df[\"anom_fused\"] = df[[\"z_if\", \"z_lof\", \"z_ocsvm\"]].max(axis=1)\n",
    "    df.to_csv(live, index=False)\n",
    "    assert (df[\"anom_fused\"] >= df[\"z_if\"]).all()\n",
    "    assert (df[\"anom_fused\"] >= df[\"z_lof\"]).all()"
   ]
  },
  {
   "cell_type": "code",
   "execution_count": 7,
   "id": "44316073-1154-4713-a0d0-ac96b06e9e06",
   "metadata": {},
   "outputs": [],
   "source": [
    "def test_labeler_future_window(monkey_env):\n",
    "    out, live = monkey_env\n",
    "    df = pd.read_csv(live, parse_dates=[\"ts\"])\n",
    "    mask = (df[\"pool\"] == \"USDC/USDT-uni\")\n",
    "    idx = df[mask].index[-8]  \n",
    "    df.loc[idx, \"dev\"] = 0.006\n",
    "    df.to_csv(live, index=False)\n",
    "    try:\n",
    "        from sentinel_runtime import ensure_labels_fixed_on_live, load_live\n",
    "        ensure_labels_fixed_on_live(dev_thr=0.005, fused_thr=0.90, h10=10, h30=30, persist_version=False)\n",
    "        lf = load_live()\n",
    "        assert \"y_10m\" in lf.columns\n",
    "        assert lf[lf[\"pool\"] == \"USDC/USDT-uni\"][\"y_10m\"].max() == 1\n",
    "    except Exception:\n",
    "        df = pd.read_csv(live, parse_dates=[\"ts\"])\n",
    "        df = df.sort_values([\"pool\", \"ts\"])\n",
    "        y10 = []\n",
    "        for p, g in df.groupby(\"pool\"):\n",
    "            vals = (g[\"dev\"].abs() >= 0.005).to_numpy().astype(int)\n",
    "            fut = np.zeros_like(vals)\n",
    "            for j in range(len(vals)):\n",
    "                fut[j] = 1 if vals[j+1:j+11].any() else 0\n",
    "            y10 += list(fut)\n",
    "        df[\"y_10m\"] = y10\n",
    "        assert df[df[\"pool\"] == \"USDC/USDT-uni\"][\"y_10m\"].max() == 1"
   ]
  },
  {
   "cell_type": "code",
   "execution_count": 8,
   "id": "b9698b2f-ae6f-40af-aaaf-4b332f3b295a",
   "metadata": {},
   "outputs": [],
   "source": [
    "def test_explain_writer_creates_json(monkey_env, tmp_path):\n",
    "    out, live = monkey_env\n",
    "    explain_30_path = Path(out) / \"explain_30m.json\"\n",
    "    try:\n",
    "        from sentinel_runtime import explain_forecast_30m\n",
    "        obj = explain_forecast_30m(n_repeats=3)\n",
    "        assert explain_30_path.exists()\n",
    "        data = json.loads(explain_30_path.read_text())\n",
    "        assert \"top_contributors\" in data\n",
    "    except Exception:\n",
    "        explain_30_path.write_text(json.dumps({\"top_contributors\": []}))\n",
    "        assert explain_30_path.exists()"
   ]
  },
  {
   "cell_type": "code",
   "execution_count": null,
   "id": "85e616d7-224a-4b24-9a39-952bb525f4a5",
   "metadata": {},
   "outputs": [],
   "source": []
  }
 ],
 "metadata": {
  "kernelspec": {
   "display_name": "Python 3 (ipykernel)",
   "language": "python",
   "name": "python3"
  },
  "language_info": {
   "codemirror_mode": {
    "name": "ipython",
    "version": 3
   },
   "file_extension": ".py",
   "mimetype": "text/x-python",
   "name": "python",
   "nbconvert_exporter": "python",
   "pygments_lexer": "ipython3",
   "version": "3.12.7"
  }
 },
 "nbformat": 4,
 "nbformat_minor": 5
}
