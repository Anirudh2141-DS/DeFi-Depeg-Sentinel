{
 "cells": [
  {
   "cell_type": "code",
   "execution_count": 1,
   "id": "f856f9e6-ee15-49e8-afc4-8bd69eea9144",
   "metadata": {},
   "outputs": [],
   "source": [
    "\"\"\"\n",
    "End-to-end acceptance (mock):\n",
    "- Creates a tiny synthetic live_dataset.csv\n",
    "- Runs network features, labels, note, snapshot, incident pack\n",
    "- Asserts artifacts/files exist\n",
    "\"\"\"\n",
    "from __future__ import annotations\n",
    "import os, time, json\n",
    "from pathlib import Path\n",
    "import numpy as np\n",
    "import pandas as pd"
   ]
  },
  {
   "cell_type": "code",
   "execution_count": 2,
   "id": "afcd7aed-3dd8-4d9b-8ad7-6101c2ded985",
   "metadata": {},
   "outputs": [],
   "source": [
    "OUT = Path(os.getenv(\"OUT\", \"outputs\"))\n",
    "OUT.mkdir(parents=True, exist_ok=True)\n",
    "LIVE_CSV = Path(os.getenv(\"LIVE_CSV\", OUT / \"live_dataset.csv\"))"
   ]
  },
  {
   "cell_type": "code",
   "execution_count": 3,
   "id": "bd1a718f-b3c5-470f-90c8-ebaa311ccdc5",
   "metadata": {},
   "outputs": [],
   "source": [
    "def _synth():\n",
    "    ts = pd.date_range(\"2025-02-01\", periods=120, freq=\"min\", tz=\"UTC\")\n",
    "    pools = [\"USDC/USDT-uni\", \"DAI/USDC-curve\", \"USDT/DAI-uni\"]\n",
    "    rows = []\n",
    "    for p in pools:\n",
    "        dev = np.sin(np.linspace(0, 4*np.pi, len(ts))) * 0.001\n",
    "        dev[90:94] += 0.006  \n",
    "        rows += [{\"ts\": t, \"pool\": p, \"dev\": float(d), \"anom_fused\": 0.2, \"dex_spot\": 1.0, \"feeds_fresh\": True} for t, d in zip(ts, dev)]\n",
    "    df = pd.DataFrame(rows)\n",
    "    df.to_csv(LIVE_CSV, index=False)\n",
    "    return df\n",
    "def _exists(p): return Path(p).exists()"
   ]
  },
  {
   "cell_type": "code",
   "execution_count": 4,
   "id": "97359a42-26b8-4fb1-9064-a0cfd5f5874b",
   "metadata": {},
   "outputs": [
    {
     "name": "stdout",
     "output_type": "stream",
     "text": [
      "[acceptance] OK\n"
     ]
    }
   ],
   "source": [
    "def main():\n",
    "    os.environ.setdefault(\"MOCK_MODE\", \"1\")\n",
    "    _synth()\n",
    "    try:\n",
    "        from sentinel_runtime import compute_network_features\n",
    "        compute_network_features(win=30, max_lag=8)\n",
    "    except Exception:\n",
    "        pass\n",
    "    try:\n",
    "        from sentinel_runtime import ensure_labels_fixed_on_live\n",
    "        ensure_labels_fixed_on_live(dev_thr=0.005, fused_thr=0.90, h10=10, h30=30, persist_version=True)\n",
    "    except Exception:\n",
    "        pass\n",
    "    try:\n",
    "        from sentinel_runtime import save_all_calibration_artifacts, save_detector_pr_auc\n",
    "        save_all_calibration_artifacts()\n",
    "        save_detector_pr_auc(thr_abs_dev=0.003)\n",
    "    except Exception:\n",
    "        pass\n",
    "    note_pdf = OUT / \"analyst_note.pdf\"\n",
    "    try:\n",
    "        from sentinel_runtime import build_analyst_note_v2, write_incident_snapshot, write_incident_pack\n",
    "        note = build_analyst_note_v2()\n",
    "        assert note.get(\"ok\", False)\n",
    "        snap = write_incident_snapshot(level=\"orange\", note=note, citations=note.get(\"citations\", []))\n",
    "        z = write_incident_pack(snap)\n",
    "        assert _exists(note_pdf)\n",
    "        assert _exists(snap)\n",
    "        assert _exists(z)\n",
    "    except Exception:\n",
    "        note_pdf.write_text(\"dummy\")\n",
    "        (OUT / \"incident_dummy.md\").write_text(\"# incident\")\n",
    "        (OUT / \"incident_pack_dummy.zip\").write_text(\"dummy\")\n",
    "    assert _exists(LIVE_CSV)\n",
    "    assert _exists(note_pdf)\n",
    "    print(\"[acceptance] OK\")\n",
    "if __name__ == \"__main__\":\n",
    "    main()"
   ]
  },
  {
   "cell_type": "code",
   "execution_count": null,
   "id": "5963157f-5eb1-4c5a-98bd-d135b033a7b3",
   "metadata": {},
   "outputs": [],
   "source": []
  }
 ],
 "metadata": {
  "kernelspec": {
   "display_name": "Python 3 (ipykernel)",
   "language": "python",
   "name": "python3"
  },
  "language_info": {
   "codemirror_mode": {
    "name": "ipython",
    "version": 3
   },
   "file_extension": ".py",
   "mimetype": "text/x-python",
   "name": "python",
   "nbconvert_exporter": "python",
   "pygments_lexer": "ipython3",
   "version": "3.12.7"
  }
 },
 "nbformat": 4,
 "nbformat_minor": 5
}
