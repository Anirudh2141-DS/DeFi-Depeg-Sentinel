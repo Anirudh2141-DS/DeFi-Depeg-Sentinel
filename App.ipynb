{
 "cells": [
  {
   "cell_type": "code",
   "execution_count": 1,
   "id": "a6dfe953-3c67-4212-8308-a409f45f4789",
   "metadata": {},
   "outputs": [],
   "source": [
    "import sys"
   ]
  },
  {
   "cell_type": "code",
   "execution_count": 2,
   "id": "5170f713-9f88-42ae-9f55-386cad3a383a",
   "metadata": {},
   "outputs": [],
   "source": [
    "sys.path.append(r\"C:\\Users\\aniru\\OneDrive\\Desktop\\ML tutorial\\DEFI Depeg sentinel\")"
   ]
  },
  {
   "cell_type": "code",
   "execution_count": 3,
   "id": "a4f80cad-ff1e-4127-ae4f-f970d5c54336",
   "metadata": {
    "scrolled": true
   },
   "outputs": [
    {
     "name": "stdout",
     "output_type": "stream",
     "text": [
      "Requirement already satisfied: python-dotenv in c:\\anaconda3\\lib\\site-packages (1.1.0)\n",
      "Requirement already satisfied: web3 in c:\\anaconda3\\lib\\site-packages (7.13.0)\n",
      "Requirement already satisfied: eth-account in c:\\anaconda3\\lib\\site-packages (0.13.7)\n",
      "Requirement already satisfied: hexbytes in c:\\anaconda3\\lib\\site-packages (1.3.1)\n",
      "Requirement already satisfied: vyper==0.3.10 in c:\\anaconda3\\lib\\site-packages (0.3.10)\n",
      "Requirement already satisfied: cbor2<6,>=5.4.6 in c:\\anaconda3\\lib\\site-packages (from vyper==0.3.10) (5.7.0)\n",
      "Requirement already satisfied: asttokens<3,>=2.0.5 in c:\\anaconda3\\lib\\site-packages (from vyper==0.3.10) (2.4.1)\n",
      "Requirement already satisfied: pycryptodome<4,>=3.5.1 in c:\\anaconda3\\lib\\site-packages (from vyper==0.3.10) (3.23.0)\n",
      "Requirement already satisfied: packaging<24,>=23.1 in c:\\anaconda3\\lib\\site-packages (from vyper==0.3.10) (23.2)\n",
      "Requirement already satisfied: importlib-metadata in c:\\anaconda3\\lib\\site-packages (from vyper==0.3.10) (8.5.0)\n",
      "Requirement already satisfied: wheel in c:\\users\\aniru\\appdata\\roaming\\python\\python312\\site-packages (from vyper==0.3.10) (0.45.1)\n",
      "Requirement already satisfied: six>=1.12.0 in c:\\anaconda3\\lib\\site-packages (from asttokens<3,>=2.0.5->vyper==0.3.10) (1.17.0)\n",
      "Requirement already satisfied: eth-abi>=5.0.1 in c:\\anaconda3\\lib\\site-packages (from web3) (5.2.0)\n",
      "Requirement already satisfied: eth-hash>=0.5.1 in c:\\anaconda3\\lib\\site-packages (from eth-hash[pycryptodome]>=0.5.1->web3) (0.7.1)\n",
      "Requirement already satisfied: eth-typing>=5.0.0 in c:\\anaconda3\\lib\\site-packages (from web3) (5.2.1)\n",
      "Requirement already satisfied: eth-utils>=5.0.0 in c:\\anaconda3\\lib\\site-packages (from web3) (5.3.0)\n",
      "Requirement already satisfied: aiohttp>=3.7.4.post0 in c:\\anaconda3\\lib\\site-packages (from web3) (3.11.10)\n",
      "Requirement already satisfied: pydantic>=2.4.0 in c:\\users\\aniru\\appdata\\roaming\\python\\python312\\site-packages (from web3) (2.11.7)\n",
      "Requirement already satisfied: pywin32>=223 in c:\\anaconda3\\lib\\site-packages (from web3) (308)\n",
      "Requirement already satisfied: requests>=2.23.0 in c:\\anaconda3\\lib\\site-packages (from web3) (2.32.4)\n",
      "Requirement already satisfied: typing-extensions>=4.0.1 in c:\\anaconda3\\lib\\site-packages (from web3) (4.14.1)\n",
      "Requirement already satisfied: types-requests>=2.0.0 in c:\\anaconda3\\lib\\site-packages (from web3) (2.32.4.20250809)\n",
      "Requirement already satisfied: websockets<16.0.0,>=10.0.0 in c:\\users\\aniru\\appdata\\roaming\\python\\python312\\site-packages (from web3) (15.0.1)\n",
      "Requirement already satisfied: pyunormalize>=15.0.0 in c:\\anaconda3\\lib\\site-packages (from web3) (16.0.0)\n",
      "Requirement already satisfied: bitarray>=2.4.0 in c:\\anaconda3\\lib\\site-packages (from eth-account) (3.6.1)\n",
      "Requirement already satisfied: eth-keyfile<0.9.0,>=0.7.0 in c:\\anaconda3\\lib\\site-packages (from eth-account) (0.8.1)\n",
      "Requirement already satisfied: eth-keys>=0.4.0 in c:\\anaconda3\\lib\\site-packages (from eth-account) (0.7.0)\n",
      "Requirement already satisfied: eth-rlp>=2.1.0 in c:\\anaconda3\\lib\\site-packages (from eth-account) (2.2.0)\n",
      "Requirement already satisfied: rlp>=1.0.0 in c:\\anaconda3\\lib\\site-packages (from eth-account) (4.1.0)\n",
      "Requirement already satisfied: ckzg>=2.0.0 in c:\\anaconda3\\lib\\site-packages (from eth-account) (2.1.1)\n",
      "Requirement already satisfied: aiohappyeyeballs>=2.3.0 in c:\\anaconda3\\lib\\site-packages (from aiohttp>=3.7.4.post0->web3) (2.4.4)\n",
      "Requirement already satisfied: aiosignal>=1.1.2 in c:\\anaconda3\\lib\\site-packages (from aiohttp>=3.7.4.post0->web3) (1.2.0)\n",
      "Requirement already satisfied: attrs>=17.3.0 in c:\\anaconda3\\lib\\site-packages (from aiohttp>=3.7.4.post0->web3) (24.3.0)\n",
      "Requirement already satisfied: frozenlist>=1.1.1 in c:\\anaconda3\\lib\\site-packages (from aiohttp>=3.7.4.post0->web3) (1.5.0)\n",
      "Requirement already satisfied: multidict<7.0,>=4.5 in c:\\anaconda3\\lib\\site-packages (from aiohttp>=3.7.4.post0->web3) (6.1.0)\n",
      "Requirement already satisfied: propcache>=0.2.0 in c:\\anaconda3\\lib\\site-packages (from aiohttp>=3.7.4.post0->web3) (0.3.1)\n",
      "Requirement already satisfied: yarl<2.0,>=1.17.0 in c:\\anaconda3\\lib\\site-packages (from aiohttp>=3.7.4.post0->web3) (1.18.0)\n",
      "Requirement already satisfied: idna>=2.0 in c:\\anaconda3\\lib\\site-packages (from yarl<2.0,>=1.17.0->aiohttp>=3.7.4.post0->web3) (3.10)\n",
      "Requirement already satisfied: parsimonious<0.11.0,>=0.10.0 in c:\\anaconda3\\lib\\site-packages (from eth-abi>=5.0.1->web3) (0.10.0)\n",
      "Requirement already satisfied: regex>=2022.3.15 in c:\\anaconda3\\lib\\site-packages (from parsimonious<0.11.0,>=0.10.0->eth-abi>=5.0.1->web3) (2025.7.34)\n",
      "Requirement already satisfied: cytoolz>=0.10.1 in c:\\anaconda3\\lib\\site-packages (from eth-utils>=5.0.0->web3) (1.0.1)\n",
      "Requirement already satisfied: annotated-types>=0.6.0 in c:\\users\\aniru\\appdata\\roaming\\python\\python312\\site-packages (from pydantic>=2.4.0->web3) (0.7.0)\n",
      "Requirement already satisfied: pydantic-core==2.33.2 in c:\\users\\aniru\\appdata\\roaming\\python\\python312\\site-packages (from pydantic>=2.4.0->web3) (2.33.2)\n",
      "Requirement already satisfied: typing-inspection>=0.4.0 in c:\\users\\aniru\\appdata\\roaming\\python\\python312\\site-packages (from pydantic>=2.4.0->web3) (0.4.1)\n",
      "Requirement already satisfied: toolz>=0.8.0 in c:\\users\\aniru\\appdata\\roaming\\python\\python312\\site-packages (from cytoolz>=0.10.1->eth-utils>=5.0.0->web3) (1.0.0)\n",
      "Requirement already satisfied: urllib3>=2 in c:\\anaconda3\\lib\\site-packages (from types-requests>=2.0.0->web3) (2.5.0)\n",
      "Requirement already satisfied: zipp>=3.20 in c:\\anaconda3\\lib\\site-packages (from importlib-metadata->vyper==0.3.10) (3.21.0)\n"
     ]
    }
   ],
   "source": [
    "!pip install --disable-pip-version-check python-dotenv web3 eth-account hexbytes vyper==0.3.10"
   ]
  },
  {
   "cell_type": "code",
   "execution_count": 4,
   "id": "83fb7a00-b433-45cd-b72f-241fd6aa48e0",
   "metadata": {
    "scrolled": true
   },
   "outputs": [
    {
     "name": "stdout",
     "output_type": "stream",
     "text": [
      "Requirement already satisfied: pandas in c:\\anaconda3\\lib\\site-packages (2.3.1)\n",
      "Requirement already satisfied: numpy in c:\\anaconda3\\lib\\site-packages (2.1.3)\n",
      "Requirement already satisfied: scikit-learn in c:\\anaconda3\\lib\\site-packages (1.7.1)\n",
      "Requirement already satisfied: xgboost in c:\\users\\aniru\\appdata\\roaming\\python\\python312\\site-packages (3.0.4)\n",
      "Requirement already satisfied: lightgbm in c:\\users\\aniru\\appdata\\roaming\\python\\python312\\site-packages (4.6.0)\n",
      "Requirement already satisfied: torch in c:\\anaconda3\\lib\\site-packages (2.5.1)\n",
      "Requirement already satisfied: shap in c:\\anaconda3\\lib\\site-packages (0.48.0)\n",
      "Requirement already satisfied: requests in c:\\anaconda3\\lib\\site-packages (2.32.4)\n",
      "Requirement already satisfied: tenacity in c:\\users\\aniru\\appdata\\roaming\\python\\python312\\site-packages (9.1.2)\n",
      "Requirement already satisfied: sentence-transformers in c:\\anaconda3\\lib\\site-packages (5.1.0)\n",
      "Requirement already satisfied: duckdb in c:\\anaconda3\\lib\\site-packages (1.3.2)\n",
      "Requirement already satisfied: python-dateutil>=2.8.2 in c:\\anaconda3\\lib\\site-packages (from pandas) (2.9.0.post0)\n",
      "Requirement already satisfied: pytz>=2020.1 in c:\\anaconda3\\lib\\site-packages (from pandas) (2025.2)\n",
      "Requirement already satisfied: tzdata>=2022.7 in c:\\anaconda3\\lib\\site-packages (from pandas) (2025.2)\n",
      "Requirement already satisfied: scipy>=1.8.0 in c:\\anaconda3\\lib\\site-packages (from scikit-learn) (1.16.1)\n",
      "Requirement already satisfied: joblib>=1.2.0 in c:\\anaconda3\\lib\\site-packages (from scikit-learn) (1.5.1)\n",
      "Requirement already satisfied: threadpoolctl>=3.1.0 in c:\\anaconda3\\lib\\site-packages (from scikit-learn) (3.6.0)\n",
      "Requirement already satisfied: filelock in c:\\anaconda3\\lib\\site-packages (from torch) (3.19.1)\n",
      "Requirement already satisfied: typing-extensions>=4.8.0 in c:\\anaconda3\\lib\\site-packages (from torch) (4.14.1)\n",
      "Requirement already satisfied: setuptools in c:\\anaconda3\\lib\\site-packages (from torch) (78.1.1)\n",
      "Requirement already satisfied: sympy==1.13.1 in c:\\anaconda3\\lib\\site-packages (from torch) (1.13.1)\n",
      "Requirement already satisfied: networkx in c:\\anaconda3\\lib\\site-packages (from torch) (3.4.2)\n",
      "Requirement already satisfied: jinja2 in c:\\anaconda3\\lib\\site-packages (from torch) (3.1.6)\n",
      "Requirement already satisfied: fsspec in c:\\anaconda3\\lib\\site-packages (from torch) (2025.3.0)\n",
      "Requirement already satisfied: mpmath<1.4,>=1.1.0 in c:\\anaconda3\\lib\\site-packages (from sympy==1.13.1->torch) (1.3.0)\n",
      "Requirement already satisfied: tqdm>=4.27.0 in c:\\anaconda3\\lib\\site-packages (from shap) (4.67.1)\n",
      "Requirement already satisfied: packaging>20.9 in c:\\anaconda3\\lib\\site-packages (from shap) (23.2)\n",
      "Requirement already satisfied: slicer==0.0.8 in c:\\anaconda3\\lib\\site-packages (from shap) (0.0.8)\n",
      "Requirement already satisfied: numba>=0.54 in c:\\anaconda3\\lib\\site-packages (from shap) (0.61.0)\n",
      "Requirement already satisfied: cloudpickle in c:\\users\\aniru\\appdata\\roaming\\python\\python312\\site-packages (from shap) (3.1.1)\n",
      "Requirement already satisfied: transformers<5.0.0,>=4.41.0 in c:\\anaconda3\\lib\\site-packages (from sentence-transformers) (4.55.4)\n",
      "Requirement already satisfied: huggingface-hub>=0.20.0 in c:\\anaconda3\\lib\\site-packages (from sentence-transformers) (0.34.4)\n",
      "Requirement already satisfied: Pillow in c:\\anaconda3\\lib\\site-packages (from sentence-transformers) (11.3.0)\n",
      "Requirement already satisfied: pyyaml>=5.1 in c:\\anaconda3\\lib\\site-packages (from transformers<5.0.0,>=4.41.0->sentence-transformers) (6.0.2)\n",
      "Requirement already satisfied: regex!=2019.12.17 in c:\\anaconda3\\lib\\site-packages (from transformers<5.0.0,>=4.41.0->sentence-transformers) (2025.7.34)\n",
      "Requirement already satisfied: tokenizers<0.22,>=0.21 in c:\\anaconda3\\lib\\site-packages (from transformers<5.0.0,>=4.41.0->sentence-transformers) (0.21.4)\n",
      "Requirement already satisfied: safetensors>=0.4.3 in c:\\anaconda3\\lib\\site-packages (from transformers<5.0.0,>=4.41.0->sentence-transformers) (0.6.2)\n",
      "Requirement already satisfied: llvmlite<0.45,>=0.44.0dev0 in c:\\anaconda3\\lib\\site-packages (from numba>=0.54->shap) (0.44.0)\n",
      "Requirement already satisfied: six>=1.5 in c:\\anaconda3\\lib\\site-packages (from python-dateutil>=2.8.2->pandas) (1.17.0)\n",
      "Requirement already satisfied: colorama in c:\\anaconda3\\lib\\site-packages (from tqdm>=4.27.0->shap) (0.4.6)\n",
      "Requirement already satisfied: MarkupSafe>=2.0 in c:\\anaconda3\\lib\\site-packages (from jinja2->torch) (3.0.2)\n"
     ]
    }
   ],
   "source": [
    "!pip install pandas numpy scikit-learn xgboost lightgbm torch shap requests tenacity sentence-transformers duckdb"
   ]
  },
  {
   "cell_type": "code",
   "execution_count": 5,
   "id": "a564973a-0f0e-481c-8604-6e74272c5859",
   "metadata": {
    "scrolled": true
   },
   "outputs": [
    {
     "name": "stdout",
     "output_type": "stream",
     "text": [
      "Requirement already satisfied: matplotlib in c:\\anaconda3\\lib\\site-packages (3.10.5)\n",
      "Requirement already satisfied: seaborn in c:\\anaconda3\\lib\\site-packages (0.13.2)\n",
      "Requirement already satisfied: plotly in c:\\users\\aniru\\appdata\\roaming\\python\\python312\\site-packages (6.2.0)\n",
      "Requirement already satisfied: weasyprint in c:\\anaconda3\\lib\\site-packages (66.0)\n",
      "Requirement already satisfied: fpdf2 in c:\\anaconda3\\lib\\site-packages (2.8.3)\n",
      "Requirement already satisfied: pyarrow in c:\\users\\aniru\\appdata\\roaming\\python\\python312\\site-packages (21.0.0)\n",
      "Requirement already satisfied: faiss-cpu in c:\\anaconda3\\lib\\site-packages (1.12.0)\n",
      "Requirement already satisfied: contourpy>=1.0.1 in c:\\anaconda3\\lib\\site-packages (from matplotlib) (1.3.1)\n",
      "Requirement already satisfied: cycler>=0.10 in c:\\anaconda3\\lib\\site-packages (from matplotlib) (0.11.0)\n",
      "Requirement already satisfied: fonttools>=4.22.0 in c:\\anaconda3\\lib\\site-packages (from matplotlib) (4.55.3)\n",
      "Requirement already satisfied: kiwisolver>=1.3.1 in c:\\anaconda3\\lib\\site-packages (from matplotlib) (1.4.8)\n",
      "Requirement already satisfied: numpy>=1.23 in c:\\anaconda3\\lib\\site-packages (from matplotlib) (2.1.3)\n",
      "Requirement already satisfied: packaging>=20.0 in c:\\anaconda3\\lib\\site-packages (from matplotlib) (23.2)\n",
      "Requirement already satisfied: pillow>=8 in c:\\anaconda3\\lib\\site-packages (from matplotlib) (11.3.0)\n",
      "Requirement already satisfied: pyparsing>=2.3.1 in c:\\anaconda3\\lib\\site-packages (from matplotlib) (3.2.0)\n",
      "Requirement already satisfied: python-dateutil>=2.7 in c:\\anaconda3\\lib\\site-packages (from matplotlib) (2.9.0.post0)\n",
      "Requirement already satisfied: pandas>=1.2 in c:\\anaconda3\\lib\\site-packages (from seaborn) (2.3.1)\n",
      "Requirement already satisfied: narwhals>=1.15.1 in c:\\users\\aniru\\appdata\\roaming\\python\\python312\\site-packages (from plotly) (2.1.0)\n",
      "Requirement already satisfied: pydyf>=0.11.0 in c:\\anaconda3\\lib\\site-packages (from weasyprint) (0.11.0)\n",
      "Requirement already satisfied: cffi>=0.6 in c:\\users\\aniru\\appdata\\roaming\\python\\python312\\site-packages (from weasyprint) (1.17.1)\n",
      "Requirement already satisfied: tinyhtml5>=2.0.0b1 in c:\\anaconda3\\lib\\site-packages (from weasyprint) (2.0.0)\n",
      "Requirement already satisfied: tinycss2>=1.4.0 in c:\\anaconda3\\lib\\site-packages (from weasyprint) (1.4.0)\n",
      "Requirement already satisfied: cssselect2>=0.8.0 in c:\\anaconda3\\lib\\site-packages (from weasyprint) (0.8.0)\n",
      "Requirement already satisfied: Pyphen>=0.9.1 in c:\\anaconda3\\lib\\site-packages (from weasyprint) (0.17.2)\n",
      "Requirement already satisfied: defusedxml in c:\\anaconda3\\lib\\site-packages (from fpdf2) (0.7.1)\n",
      "Requirement already satisfied: pycparser in c:\\users\\aniru\\appdata\\roaming\\python\\python312\\site-packages (from cffi>=0.6->weasyprint) (2.22)\n",
      "Requirement already satisfied: webencodings in c:\\anaconda3\\lib\\site-packages (from cssselect2>=0.8.0->weasyprint) (0.5.1)\n",
      "Requirement already satisfied: zopfli>=0.1.4 in c:\\anaconda3\\lib\\site-packages (from fonttools[woff]>=4.0.0->weasyprint) (0.2.3.post1)\n",
      "Requirement already satisfied: brotli>=1.0.1 in c:\\users\\aniru\\appdata\\roaming\\python\\python312\\site-packages (from fonttools[woff]>=4.0.0->weasyprint) (1.1.0)\n",
      "Requirement already satisfied: pytz>=2020.1 in c:\\anaconda3\\lib\\site-packages (from pandas>=1.2->seaborn) (2025.2)\n",
      "Requirement already satisfied: tzdata>=2022.7 in c:\\anaconda3\\lib\\site-packages (from pandas>=1.2->seaborn) (2025.2)\n",
      "Requirement already satisfied: six>=1.5 in c:\\anaconda3\\lib\\site-packages (from python-dateutil>=2.7->matplotlib) (1.17.0)\n"
     ]
    }
   ],
   "source": [
    "!pip install matplotlib seaborn plotly weasyprint fpdf2 pyarrow faiss-cpu"
   ]
  },
  {
   "cell_type": "code",
   "execution_count": 6,
   "id": "cce76d24-c824-4620-9866-4f06cf038dba",
   "metadata": {},
   "outputs": [
    {
     "name": "stdout",
     "output_type": "stream",
     "text": [
      "Requirement already satisfied: importnb in c:\\anaconda3\\lib\\site-packages (2023.11.1)\n"
     ]
    }
   ],
   "source": [
    "!pip install importnb"
   ]
  },
  {
   "cell_type": "code",
   "execution_count": 10,
   "id": "658e0811-ef66-4dfc-90ad-8b272892dd43",
   "metadata": {},
   "outputs": [
    {
     "name": "stdout",
     "output_type": "stream",
     "text": [
      "Requirement already satisfied: nbformat in c:\\anaconda3\\lib\\site-packages (5.10.4)\n",
      "Requirement already satisfied: fastjsonschema>=2.15 in c:\\anaconda3\\lib\\site-packages (from nbformat) (2.20.0)\n",
      "Requirement already satisfied: jsonschema>=2.6 in c:\\users\\aniru\\appdata\\roaming\\python\\python312\\site-packages (from nbformat) (4.25.0)\n",
      "Requirement already satisfied: jupyter-core!=5.0.*,>=4.12 in c:\\anaconda3\\lib\\site-packages (from nbformat) (5.7.2)\n",
      "Requirement already satisfied: traitlets>=5.1 in c:\\anaconda3\\lib\\site-packages (from nbformat) (5.14.3)\n",
      "Requirement already satisfied: attrs>=22.2.0 in c:\\anaconda3\\lib\\site-packages (from jsonschema>=2.6->nbformat) (24.3.0)\n",
      "Requirement already satisfied: jsonschema-specifications>=2023.03.6 in c:\\users\\aniru\\appdata\\roaming\\python\\python312\\site-packages (from jsonschema>=2.6->nbformat) (2025.4.1)\n",
      "Requirement already satisfied: referencing>=0.28.4 in c:\\users\\aniru\\appdata\\roaming\\python\\python312\\site-packages (from jsonschema>=2.6->nbformat) (0.36.2)\n",
      "Requirement already satisfied: rpds-py>=0.7.1 in c:\\users\\aniru\\appdata\\roaming\\python\\python312\\site-packages (from jsonschema>=2.6->nbformat) (0.27.0)\n",
      "Requirement already satisfied: platformdirs>=2.5 in c:\\anaconda3\\lib\\site-packages (from jupyter-core!=5.0.*,>=4.12->nbformat) (4.3.7)\n",
      "Requirement already satisfied: pywin32>=300 in c:\\anaconda3\\lib\\site-packages (from jupyter-core!=5.0.*,>=4.12->nbformat) (308)\n",
      "Requirement already satisfied: typing-extensions>=4.4.0 in c:\\anaconda3\\lib\\site-packages (from referencing>=0.28.4->jsonschema>=2.6->nbformat) (4.14.1)\n"
     ]
    },
    {
     "name": "stderr",
     "output_type": "stream",
     "text": [
      "C:\\Anaconda3\\Lib\\site-packages\\IPython\\utils\\_process_win32.py:124: ResourceWarning: unclosed file <_io.BufferedWriter name=3>\n",
      "  return process_handler(cmd, _system_body)\n",
      "ResourceWarning: Enable tracemalloc to get the object allocation traceback\n",
      "C:\\Anaconda3\\Lib\\site-packages\\IPython\\utils\\_process_win32.py:124: ResourceWarning: unclosed file <_io.BufferedReader name=4>\n",
      "  return process_handler(cmd, _system_body)\n",
      "ResourceWarning: Enable tracemalloc to get the object allocation traceback\n",
      "C:\\Anaconda3\\Lib\\site-packages\\IPython\\utils\\_process_win32.py:124: ResourceWarning: unclosed file <_io.BufferedReader name=5>\n",
      "  return process_handler(cmd, _system_body)\n",
      "ResourceWarning: Enable tracemalloc to get the object allocation traceback\n"
     ]
    }
   ],
   "source": [
    "!pip install nbformat"
   ]
  },
  {
   "cell_type": "code",
   "execution_count": 11,
   "id": "2e09b61e-2ecb-404f-8a4f-1f63cfffc8e7",
   "metadata": {},
   "outputs": [],
   "source": [
    "import os, sys, shutil, uuid, nbformat, importlib\n",
    "from importnb import Notebook\n",
    "from pathlib import Path"
   ]
  },
  {
   "cell_type": "code",
   "execution_count": 12,
   "id": "11e0bff2-7120-4a07-8624-1307e6d8bb73",
   "metadata": {
    "scrolled": true
   },
   "outputs": [],
   "source": [
    "COMPAT_ROOT = Path.cwd() / \"_ipynb_compat\"\n",
    "COMPAT_ROOT.mkdir(exist_ok=True)"
   ]
  },
  {
   "cell_type": "code",
   "execution_count": 13,
   "id": "41f9a8fa-b303-4632-9c90-b5ac23ffcc55",
   "metadata": {},
   "outputs": [],
   "source": [
    "def _strip_future_lines(code: str) -> str:\n",
    "    out = []\n",
    "    for line in code.splitlines():\n",
    "        if line.strip().startswith(\"from __future__ import\"):\n",
    "            continue\n",
    "        out.append(line)\n",
    "    return \"\\n\".join(out)"
   ]
  },
  {
   "cell_type": "code",
   "execution_count": 14,
   "id": "b83cdda0-f0c3-4796-a17c-c79f0f6cef20",
   "metadata": {},
   "outputs": [],
   "source": [
    "def make_compat_copy(mod_name: str, src_path: str | Path) -> Path:\n",
    "    \"\"\"\n",
    "    Creates a sanitized copy of the .ipynb that removes __future__ imports.\n",
    "    Returns the path to the new compat notebook (e.g., _ipynb_compat/sentinel_compat.ipynb).\n",
    "    \"\"\"\n",
    "    src_path = Path(src_path)\n",
    "    if not src_path.exists():\n",
    "        guessed = Path(f\"{mod_name}.ipynb\")\n",
    "        if guessed.exists():\n",
    "            src_path = guessed\n",
    "        else:\n",
    "            raise FileNotFoundError(f\"Couldn’t find notebook for module '{mod_name}'. Tried: {src_path}, {guessed}\")\n",
    "    nb = nbformat.read(src_path, as_version=4)\n",
    "    for cell in nb.cells:\n",
    "        if cell.cell_type == \"code\" and isinstance(cell.source, str):\n",
    "            cell.source = _strip_future_lines(cell.source)\n",
    "    compat_name = f\"{mod_name}_compat.ipynb\"\n",
    "    compat_path = COMPAT_ROOT / compat_name\n",
    "    nbformat.write(nb, compat_path)\n",
    "    return compat_path"
   ]
  },
  {
   "cell_type": "code",
   "execution_count": 15,
   "id": "aa2a90a8-8161-4e22-bf03-0e26b5b4e4d3",
   "metadata": {},
   "outputs": [],
   "source": [
    "def import_ipynb_compat(mod_name: str, src_path: str | Path | None = None):\n",
    "    \"\"\"\n",
    "    Sanitize -> import the compat module (as <mod_name>_compat), and return the module.\n",
    "    \"\"\"\n",
    "    compat_path = make_compat_copy(mod_name, src_path or f\"{mod_name}.ipynb\")\n",
    "    compat_modname = f\"{mod_name}_compat\"\n",
    "    if str(COMPAT_ROOT) not in sys.path:\n",
    "        sys.path.insert(0, str(COMPAT_ROOT))\n",
    "    with Notebook():\n",
    "        mod = importlib.import_module(compat_modname)\n",
    "    return mod"
   ]
  },
  {
   "cell_type": "code",
   "execution_count": null,
   "id": "e089a88b-ec0d-4a33-b1eb-482c36c7e1a5",
   "metadata": {
    "scrolled": true
   },
   "outputs": [
    {
     "name": "stdout",
     "output_type": "stream",
     "text": [
      "[ok] imported acceptance_mock (compat)\n",
      "[ok] imported backtest (compat)\n",
      "Requirement already satisfied: vyper==0.3.10 in c:\\anaconda3\\lib\\site-packages (0.3.10)\n",
      "Requirement already satisfied: web3 in c:\\anaconda3\\lib\\site-packages (7.13.0)\n",
      "Requirement already satisfied: eth-account in c:\\anaconda3\\lib\\site-packages (0.13.7)\n",
      "Requirement already satisfied: hexbytes in c:\\anaconda3\\lib\\site-packages (1.3.1)\n",
      "Requirement already satisfied: cbor2<6,>=5.4.6 in c:\\anaconda3\\lib\\site-packages (from vyper==0.3.10) (5.7.0)\n",
      "Requirement already satisfied: asttokens<3,>=2.0.5 in c:\\anaconda3\\lib\\site-packages (from vyper==0.3.10) (2.4.1)\n",
      "Requirement already satisfied: pycryptodome<4,>=3.5.1 in c:\\anaconda3\\lib\\site-packages (from vyper==0.3.10) (3.23.0)\n",
      "Requirement already satisfied: packaging<24,>=23.1 in c:\\anaconda3\\lib\\site-packages (from vyper==0.3.10) (23.2)\n",
      "Requirement already satisfied: importlib-metadata in c:\\anaconda3\\lib\\site-packages (from vyper==0.3.10) (8.5.0)\n",
      "Requirement already satisfied: wheel in c:\\users\\aniru\\appdata\\roaming\\python\\python312\\site-packages (from vyper==0.3.10) (0.45.1)\n",
      "Requirement already satisfied: six>=1.12.0 in c:\\anaconda3\\lib\\site-packages (from asttokens<3,>=2.0.5->vyper==0.3.10) (1.17.0)\n",
      "Requirement already satisfied: eth-abi>=5.0.1 in c:\\anaconda3\\lib\\site-packages (from web3) (5.2.0)\n",
      "Requirement already satisfied: eth-hash>=0.5.1 in c:\\anaconda3\\lib\\site-packages (from eth-hash[pycryptodome]>=0.5.1->web3) (0.7.1)\n",
      "Requirement already satisfied: eth-typing>=5.0.0 in c:\\anaconda3\\lib\\site-packages (from web3) (5.2.1)\n",
      "Requirement already satisfied: eth-utils>=5.0.0 in c:\\anaconda3\\lib\\site-packages (from web3) (5.3.0)\n",
      "Requirement already satisfied: aiohttp>=3.7.4.post0 in c:\\anaconda3\\lib\\site-packages (from web3) (3.11.10)\n",
      "Requirement already satisfied: pydantic>=2.4.0 in c:\\users\\aniru\\appdata\\roaming\\python\\python312\\site-packages (from web3) (2.11.7)\n",
      "Requirement already satisfied: pywin32>=223 in c:\\anaconda3\\lib\\site-packages (from web3) (308)\n",
      "Requirement already satisfied: requests>=2.23.0 in c:\\anaconda3\\lib\\site-packages (from web3) (2.32.4)\n",
      "Requirement already satisfied: typing-extensions>=4.0.1 in c:\\anaconda3\\lib\\site-packages (from web3) (4.14.1)\n",
      "Requirement already satisfied: types-requests>=2.0.0 in c:\\anaconda3\\lib\\site-packages (from web3) (2.32.4.20250809)\n",
      "Requirement already satisfied: websockets<16.0.0,>=10.0.0 in c:\\users\\aniru\\appdata\\roaming\\python\\python312\\site-packages (from web3) (15.0.1)\n",
      "Requirement already satisfied: pyunormalize>=15.0.0 in c:\\anaconda3\\lib\\site-packages (from web3) (16.0.0)\n",
      "Requirement already satisfied: bitarray>=2.4.0 in c:\\anaconda3\\lib\\site-packages (from eth-account) (3.6.1)\n",
      "Requirement already satisfied: eth-keyfile<0.9.0,>=0.7.0 in c:\\anaconda3\\lib\\site-packages (from eth-account) (0.8.1)\n",
      "Requirement already satisfied: eth-keys>=0.4.0 in c:\\anaconda3\\lib\\site-packages (from eth-account) (0.7.0)\n",
      "Requirement already satisfied: eth-rlp>=2.1.0 in c:\\anaconda3\\lib\\site-packages (from eth-account) (2.2.0)\n",
      "Requirement already satisfied: rlp>=1.0.0 in c:\\anaconda3\\lib\\site-packages (from eth-account) (4.1.0)\n",
      "Requirement already satisfied: ckzg>=2.0.0 in c:\\anaconda3\\lib\\site-packages (from eth-account) (2.1.1)\n",
      "Requirement already satisfied: aiohappyeyeballs>=2.3.0 in c:\\anaconda3\\lib\\site-packages (from aiohttp>=3.7.4.post0->web3) (2.4.4)\n",
      "Requirement already satisfied: aiosignal>=1.1.2 in c:\\anaconda3\\lib\\site-packages (from aiohttp>=3.7.4.post0->web3) (1.2.0)\n",
      "Requirement already satisfied: attrs>=17.3.0 in c:\\anaconda3\\lib\\site-packages (from aiohttp>=3.7.4.post0->web3) (24.3.0)\n",
      "Requirement already satisfied: frozenlist>=1.1.1 in c:\\anaconda3\\lib\\site-packages (from aiohttp>=3.7.4.post0->web3) (1.5.0)\n",
      "Requirement already satisfied: multidict<7.0,>=4.5 in c:\\anaconda3\\lib\\site-packages (from aiohttp>=3.7.4.post0->web3) (6.1.0)\n",
      "Requirement already satisfied: propcache>=0.2.0 in c:\\anaconda3\\lib\\site-packages (from aiohttp>=3.7.4.post0->web3) (0.3.1)\n",
      "Requirement already satisfied: yarl<2.0,>=1.17.0 in c:\\anaconda3\\lib\\site-packages (from aiohttp>=3.7.4.post0->web3) (1.18.0)\n",
      "Requirement already satisfied: idna>=2.0 in c:\\anaconda3\\lib\\site-packages (from yarl<2.0,>=1.17.0->aiohttp>=3.7.4.post0->web3) (3.10)\n",
      "Requirement already satisfied: parsimonious<0.11.0,>=0.10.0 in c:\\anaconda3\\lib\\site-packages (from eth-abi>=5.0.1->web3) (0.10.0)\n",
      "Requirement already satisfied: regex>=2022.3.15 in c:\\anaconda3\\lib\\site-packages (from parsimonious<0.11.0,>=0.10.0->eth-abi>=5.0.1->web3) (2025.7.34)\n",
      "Requirement already satisfied: cytoolz>=0.10.1 in c:\\anaconda3\\lib\\site-packages (from eth-utils>=5.0.0->web3) (1.0.1)\n",
      "Requirement already satisfied: annotated-types>=0.6.0 in c:\\users\\aniru\\appdata\\roaming\\python\\python312\\site-packages (from pydantic>=2.4.0->web3) (0.7.0)\n",
      "Requirement already satisfied: pydantic-core==2.33.2 in c:\\users\\aniru\\appdata\\roaming\\python\\python312\\site-packages (from pydantic>=2.4.0->web3) (2.33.2)\n",
      "Requirement already satisfied: typing-inspection>=0.4.0 in c:\\users\\aniru\\appdata\\roaming\\python\\python312\\site-packages (from pydantic>=2.4.0->web3) (0.4.1)\n",
      "Requirement already satisfied: toolz>=0.8.0 in c:\\users\\aniru\\appdata\\roaming\\python\\python312\\site-packages (from cytoolz>=0.10.1->eth-utils>=5.0.0->web3) (1.0.0)\n",
      "Requirement already satisfied: urllib3>=2 in c:\\anaconda3\\lib\\site-packages (from types-requests>=2.0.0->web3) (2.5.0)\n",
      "Requirement already satisfied: zipp>=3.20 in c:\\anaconda3\\lib\\site-packages (from importlib-metadata->vyper==0.3.10) (3.21.0)\n"
     ]
    },
    {
     "name": "stderr",
     "output_type": "stream",
     "text": [
      "C:\\Anaconda3\\Lib\\site-packages\\IPython\\utils\\_process_win32.py:124: ResourceWarning: unclosed file <_io.BufferedWriter name=3>\n",
      "  return process_handler(cmd, _system_body)\n",
      "ResourceWarning: Enable tracemalloc to get the object allocation traceback\n",
      "C:\\Anaconda3\\Lib\\site-packages\\IPython\\utils\\_process_win32.py:124: ResourceWarning: unclosed file <_io.BufferedReader name=4>\n",
      "  return process_handler(cmd, _system_body)\n",
      "ResourceWarning: Enable tracemalloc to get the object allocation traceback\n",
      "C:\\Anaconda3\\Lib\\site-packages\\IPython\\utils\\_process_win32.py:124: ResourceWarning: unclosed file <_io.BufferedReader name=5>\n",
      "  return process_handler(cmd, _system_body)\n",
      "ResourceWarning: Enable tracemalloc to get the object allocation traceback\n"
     ]
    },
    {
     "name": "stdout",
     "output_type": "stream",
     "text": [
      "Requirement already satisfied: fsspec<=2025.3.0,>=2023.1.0 in c:\\anaconda3\\lib\\site-packages (2025.3.0)\n",
      "[paths] BASE_DIR=C:\\Users\\aniru\\OneDrive\\Desktop\\ML tutorial\\DEFI Depeg sentinel\n",
      "[paths] ART=C:\\Users\\aniru\\OneDrive\\Desktop\\ML tutorial\\DEFI Depeg sentinel\\artifacts\n"
     ]
    },
    {
     "name": "stderr",
     "output_type": "stream",
     "text": [
      "C:\\Anaconda3\\Lib\\site-packages\\vyper\\ast\\annotation.py:213: DeprecationWarning: Attribute n is deprecated and will be removed in Python 3.14; use value instead\n",
      "  elif isinstance(node.n, float):\n",
      "C:\\Anaconda3\\Lib\\site-packages\\vyper\\ast\\annotation.py:217: DeprecationWarning: Attribute n is deprecated and will be removed in Python 3.14; use value instead\n",
      "  elif isinstance(node.n, int):\n",
      "C:\\Anaconda3\\Lib\\site-packages\\vyper\\ast\\annotation.py:77: DeprecationWarning: ast.Str is deprecated and will be removed in Python 3.14; use ast.Constant instead\n",
      "  if isinstance(n, python_ast.Expr) and isinstance(n.value, python_ast.Str):\n"
     ]
    },
    {
     "name": "stdout",
     "output_type": "stream",
     "text": [
      "[vyper] compiled via Python API\n",
      "[artifacts] wrote ABI & bytecode\n",
      "[rpc] connected via tester, chainId=131277322940537, sender=0x7E5F4552091A69125d5DfCb7b8C2659029395Bdf\n",
      "[deploy] SentinelDataToken @ 0xF2E246BB76DF876Cef8b38ae84130F4F55De395b\n",
      "name = SentinelData\n",
      "symbol = SDT\n",
      "decimals = 18\n",
      "treasury_bps = 500\n",
      "owner = 0x7E5F4552091A69125d5DfCb7b8C2659029395Bdf\n",
      "minter = 0x7E5F4552091A69125d5DfCb7b8C2659029395Bdf\n",
      "totalSupply = 0\n",
      "[submit] status=1 gasUsed=104446\n",
      "recipient balance delta = 75000000000000000\n",
      "totalSupply delta = 75000000000000000\n",
      "treasury = 0x7E5F4552091A69125d5DfCb7b8C2659029395Bdf treasury balance = 75000000000000000\n",
      "[event] DataBlockSubmitted: {'block_hash': 'd0525ec5f3126f4cb71653e4945e49f118cb1af24810ea1645c3af48eba713d4', 'anomaly_bps': 820, 'novelty_bps': 430, 'severity': 3, 'reward': 75000000000000000, 'to': '0x7E5F4552091A69125d5DfCb7b8C2659029395Bdf'}\n",
      "\n",
      "All done\n",
      "[ok] imported Contract (compat)\n"
     ]
    },
    {
     "name": "stderr",
     "output_type": "stream",
     "text": [
      "C:\\Anaconda3\\Lib\\site-packages\\eth_utils\\functional.py:47: UserWarning: The log with transaction hash: HexBytes('0xe0d895b19d3b1716b3e77269f46a6cfc6f461fd1f86c35d537d85b8eacc369a2') and logIndex: 0 encountered the following error during processing: MismatchedABI(The event signature did not match the provided ABI). It has been discarded.\n",
      "  return callback(fn(*args, **kwargs))\n",
      "C:\\Anaconda3\\Lib\\site-packages\\eth_utils\\functional.py:47: UserWarning: The log with transaction hash: HexBytes('0xe0d895b19d3b1716b3e77269f46a6cfc6f461fd1f86c35d537d85b8eacc369a2') and logIndex: 1 encountered the following error during processing: MismatchedABI(The event signature did not match the provided ABI). It has been discarded.\n",
      "  return callback(fn(*args, **kwargs))\n"
     ]
    },
    {
     "name": "stdout",
     "output_type": "stream",
     "text": [
      "Requirement already satisfied: python-dotenv in c:\\anaconda3\\lib\\site-packages (1.1.0)\n",
      "Requirement already satisfied: web3 in c:\\anaconda3\\lib\\site-packages (7.13.0)\n",
      "Requirement already satisfied: eth-account in c:\\anaconda3\\lib\\site-packages (0.13.7)\n",
      "Requirement already satisfied: hexbytes in c:\\anaconda3\\lib\\site-packages (1.3.1)\n",
      "Requirement already satisfied: vyper==0.3.10 in c:\\anaconda3\\lib\\site-packages (0.3.10)\n",
      "Requirement already satisfied: cbor2<6,>=5.4.6 in c:\\anaconda3\\lib\\site-packages (from vyper==0.3.10) (5.7.0)\n",
      "Requirement already satisfied: asttokens<3,>=2.0.5 in c:\\anaconda3\\lib\\site-packages (from vyper==0.3.10) (2.4.1)\n",
      "Requirement already satisfied: pycryptodome<4,>=3.5.1 in c:\\anaconda3\\lib\\site-packages (from vyper==0.3.10) (3.23.0)\n",
      "Requirement already satisfied: packaging<24,>=23.1 in c:\\anaconda3\\lib\\site-packages (from vyper==0.3.10) (23.2)\n",
      "Requirement already satisfied: importlib-metadata in c:\\anaconda3\\lib\\site-packages (from vyper==0.3.10) (8.5.0)\n",
      "Requirement already satisfied: wheel in c:\\users\\aniru\\appdata\\roaming\\python\\python312\\site-packages (from vyper==0.3.10) (0.45.1)\n",
      "Requirement already satisfied: six>=1.12.0 in c:\\anaconda3\\lib\\site-packages (from asttokens<3,>=2.0.5->vyper==0.3.10) (1.17.0)\n",
      "Requirement already satisfied: eth-abi>=5.0.1 in c:\\anaconda3\\lib\\site-packages (from web3) (5.2.0)\n",
      "Requirement already satisfied: eth-hash>=0.5.1 in c:\\anaconda3\\lib\\site-packages (from eth-hash[pycryptodome]>=0.5.1->web3) (0.7.1)\n",
      "Requirement already satisfied: eth-typing>=5.0.0 in c:\\anaconda3\\lib\\site-packages (from web3) (5.2.1)\n",
      "Requirement already satisfied: eth-utils>=5.0.0 in c:\\anaconda3\\lib\\site-packages (from web3) (5.3.0)\n",
      "Requirement already satisfied: aiohttp>=3.7.4.post0 in c:\\anaconda3\\lib\\site-packages (from web3) (3.11.10)\n",
      "Requirement already satisfied: pydantic>=2.4.0 in c:\\users\\aniru\\appdata\\roaming\\python\\python312\\site-packages (from web3) (2.11.7)\n",
      "Requirement already satisfied: pywin32>=223 in c:\\anaconda3\\lib\\site-packages (from web3) (308)\n",
      "Requirement already satisfied: requests>=2.23.0 in c:\\anaconda3\\lib\\site-packages (from web3) (2.32.4)\n",
      "Requirement already satisfied: typing-extensions>=4.0.1 in c:\\anaconda3\\lib\\site-packages (from web3) (4.14.1)\n",
      "Requirement already satisfied: types-requests>=2.0.0 in c:\\anaconda3\\lib\\site-packages (from web3) (2.32.4.20250809)\n",
      "Requirement already satisfied: websockets<16.0.0,>=10.0.0 in c:\\users\\aniru\\appdata\\roaming\\python\\python312\\site-packages (from web3) (15.0.1)\n",
      "Requirement already satisfied: pyunormalize>=15.0.0 in c:\\anaconda3\\lib\\site-packages (from web3) (16.0.0)\n",
      "Requirement already satisfied: bitarray>=2.4.0 in c:\\anaconda3\\lib\\site-packages (from eth-account) (3.6.1)\n",
      "Requirement already satisfied: eth-keyfile<0.9.0,>=0.7.0 in c:\\anaconda3\\lib\\site-packages (from eth-account) (0.8.1)\n",
      "Requirement already satisfied: eth-keys>=0.4.0 in c:\\anaconda3\\lib\\site-packages (from eth-account) (0.7.0)\n",
      "Requirement already satisfied: eth-rlp>=2.1.0 in c:\\anaconda3\\lib\\site-packages (from eth-account) (2.2.0)\n",
      "Requirement already satisfied: rlp>=1.0.0 in c:\\anaconda3\\lib\\site-packages (from eth-account) (4.1.0)\n",
      "Requirement already satisfied: ckzg>=2.0.0 in c:\\anaconda3\\lib\\site-packages (from eth-account) (2.1.1)\n",
      "Requirement already satisfied: aiohappyeyeballs>=2.3.0 in c:\\anaconda3\\lib\\site-packages (from aiohttp>=3.7.4.post0->web3) (2.4.4)\n",
      "Requirement already satisfied: aiosignal>=1.1.2 in c:\\anaconda3\\lib\\site-packages (from aiohttp>=3.7.4.post0->web3) (1.2.0)\n",
      "Requirement already satisfied: attrs>=17.3.0 in c:\\anaconda3\\lib\\site-packages (from aiohttp>=3.7.4.post0->web3) (24.3.0)\n",
      "Requirement already satisfied: frozenlist>=1.1.1 in c:\\anaconda3\\lib\\site-packages (from aiohttp>=3.7.4.post0->web3) (1.5.0)\n",
      "Requirement already satisfied: multidict<7.0,>=4.5 in c:\\anaconda3\\lib\\site-packages (from aiohttp>=3.7.4.post0->web3) (6.1.0)\n",
      "Requirement already satisfied: propcache>=0.2.0 in c:\\anaconda3\\lib\\site-packages (from aiohttp>=3.7.4.post0->web3) (0.3.1)\n",
      "Requirement already satisfied: yarl<2.0,>=1.17.0 in c:\\anaconda3\\lib\\site-packages (from aiohttp>=3.7.4.post0->web3) (1.18.0)\n",
      "Requirement already satisfied: idna>=2.0 in c:\\anaconda3\\lib\\site-packages (from yarl<2.0,>=1.17.0->aiohttp>=3.7.4.post0->web3) (3.10)\n",
      "Requirement already satisfied: parsimonious<0.11.0,>=0.10.0 in c:\\anaconda3\\lib\\site-packages (from eth-abi>=5.0.1->web3) (0.10.0)\n",
      "Requirement already satisfied: regex>=2022.3.15 in c:\\anaconda3\\lib\\site-packages (from parsimonious<0.11.0,>=0.10.0->eth-abi>=5.0.1->web3) (2025.7.34)\n",
      "Requirement already satisfied: cytoolz>=0.10.1 in c:\\anaconda3\\lib\\site-packages (from eth-utils>=5.0.0->web3) (1.0.1)\n",
      "Requirement already satisfied: annotated-types>=0.6.0 in c:\\users\\aniru\\appdata\\roaming\\python\\python312\\site-packages (from pydantic>=2.4.0->web3) (0.7.0)\n",
      "Requirement already satisfied: pydantic-core==2.33.2 in c:\\users\\aniru\\appdata\\roaming\\python\\python312\\site-packages (from pydantic>=2.4.0->web3) (2.33.2)\n",
      "Requirement already satisfied: typing-inspection>=0.4.0 in c:\\users\\aniru\\appdata\\roaming\\python\\python312\\site-packages (from pydantic>=2.4.0->web3) (0.4.1)\n",
      "Requirement already satisfied: toolz>=0.8.0 in c:\\users\\aniru\\appdata\\roaming\\python\\python312\\site-packages (from cytoolz>=0.10.1->eth-utils>=5.0.0->web3) (1.0.0)\n",
      "Requirement already satisfied: urllib3>=2 in c:\\anaconda3\\lib\\site-packages (from types-requests>=2.0.0->web3) (2.5.0)\n",
      "Requirement already satisfied: zipp>=3.20 in c:\\anaconda3\\lib\\site-packages (from importlib-metadata->vyper==0.3.10) (3.21.0)\n"
     ]
    },
    {
     "name": "stderr",
     "output_type": "stream",
     "text": [
      "C:\\Anaconda3\\Lib\\site-packages\\IPython\\utils\\_process_win32.py:124: ResourceWarning: unclosed file <_io.BufferedWriter name=3>\n",
      "  return process_handler(cmd, _system_body)\n",
      "ResourceWarning: Enable tracemalloc to get the object allocation traceback\n",
      "C:\\Anaconda3\\Lib\\site-packages\\IPython\\utils\\_process_win32.py:124: ResourceWarning: unclosed file <_io.BufferedReader name=4>\n",
      "  return process_handler(cmd, _system_body)\n",
      "ResourceWarning: Enable tracemalloc to get the object allocation traceback\n",
      "C:\\Anaconda3\\Lib\\site-packages\\IPython\\utils\\_process_win32.py:124: ResourceWarning: unclosed file <_io.BufferedReader name=5>\n",
      "  return process_handler(cmd, _system_body)\n",
      "ResourceWarning: Enable tracemalloc to get the object allocation traceback\n"
     ]
    },
    {
     "name": "stdout",
     "output_type": "stream",
     "text": [
      "[rpc] Connected → https://ethereum-sepolia-rpc.publicnode.com\n",
      "[acct] Deployer: 0xd437f22b71CB94f1A9724d3A60a98B08f825C1a8\n",
      "[preflight] Balance: 0.049629783371936961 ETH | Worst-case deploy cap: ~0.000751832175 ETH\n",
      "[vyper] ABI entries: 3 | bytecode bytes: 304\n",
      "[deploy] Refined gas: 117447\n",
      "[deploy] tx: 5f386c0b53265491efb7a6e99dfc38f3842d0ac155b1525b09d787e28be311f4\n",
      "[deploy] Contract @ 0x63aAF1C49910ecd88fC8600B23510aBf4De5404C\n",
      "[call] stored() before: 123\n",
      "[fail] Deployment: {'code': -32000, 'message': 'nonce too low: next nonce 5, tx nonce 4'}\n",
      "[ok] imported entrypoint (compat)\n",
      "[ok] imported runtime (compat)\n",
      "Requirement already satisfied: pip in c:\\users\\aniru\\appdata\\roaming\\python\\python312\\site-packages (25.2)\n"
     ]
    },
    {
     "name": "stderr",
     "output_type": "stream",
     "text": [
      "C:\\Anaconda3\\Lib\\site-packages\\IPython\\utils\\_process_win32.py:124: ResourceWarning: unclosed file <_io.BufferedWriter name=3>\n",
      "  return process_handler(cmd, _system_body)\n",
      "ResourceWarning: Enable tracemalloc to get the object allocation traceback\n",
      "C:\\Anaconda3\\Lib\\site-packages\\IPython\\utils\\_process_win32.py:124: ResourceWarning: unclosed file <_io.BufferedReader name=4>\n",
      "  return process_handler(cmd, _system_body)\n",
      "ResourceWarning: Enable tracemalloc to get the object allocation traceback\n",
      "C:\\Anaconda3\\Lib\\site-packages\\IPython\\utils\\_process_win32.py:124: ResourceWarning: unclosed file <_io.BufferedReader name=5>\n",
      "  return process_handler(cmd, _system_body)\n",
      "ResourceWarning: Enable tracemalloc to get the object allocation traceback\n"
     ]
    },
    {
     "name": "stdout",
     "output_type": "stream",
     "text": [
      "Requirement already satisfied: pandas in c:\\anaconda3\\lib\\site-packages (2.3.1)\n",
      "Requirement already satisfied: numpy in c:\\anaconda3\\lib\\site-packages (2.1.3)\n",
      "Requirement already satisfied: scikit-learn in c:\\anaconda3\\lib\\site-packages (1.7.1)\n",
      "Requirement already satisfied: xgboost in c:\\users\\aniru\\appdata\\roaming\\python\\python312\\site-packages (3.0.4)\n",
      "Requirement already satisfied: lightgbm in c:\\users\\aniru\\appdata\\roaming\\python\\python312\\site-packages (4.6.0)\n",
      "Requirement already satisfied: python-dateutil>=2.8.2 in c:\\anaconda3\\lib\\site-packages (from pandas) (2.9.0.post0)\n",
      "Requirement already satisfied: pytz>=2020.1 in c:\\anaconda3\\lib\\site-packages (from pandas) (2025.2)\n",
      "Requirement already satisfied: tzdata>=2022.7 in c:\\anaconda3\\lib\\site-packages (from pandas) (2025.2)\n",
      "Requirement already satisfied: scipy>=1.8.0 in c:\\anaconda3\\lib\\site-packages (from scikit-learn) (1.16.1)\n",
      "Requirement already satisfied: joblib>=1.2.0 in c:\\anaconda3\\lib\\site-packages (from scikit-learn) (1.5.1)\n",
      "Requirement already satisfied: threadpoolctl>=3.1.0 in c:\\anaconda3\\lib\\site-packages (from scikit-learn) (3.6.0)\n",
      "Requirement already satisfied: six>=1.5 in c:\\anaconda3\\lib\\site-packages (from python-dateutil>=2.8.2->pandas) (1.17.0)\n"
     ]
    },
    {
     "name": "stderr",
     "output_type": "stream",
     "text": [
      "C:\\Anaconda3\\Lib\\threading.py:1016: ResourceWarning: unclosed file <_io.BufferedWriter name=3>\n",
      "  del self._target, self._args, self._kwargs\n",
      "ResourceWarning: Enable tracemalloc to get the object allocation traceback\n",
      "C:\\Anaconda3\\Lib\\threading.py:1016: ResourceWarning: unclosed file <_io.BufferedReader name=4>\n",
      "  del self._target, self._args, self._kwargs\n",
      "ResourceWarning: Enable tracemalloc to get the object allocation traceback\n",
      "C:\\Anaconda3\\Lib\\threading.py:1016: ResourceWarning: unclosed file <_io.BufferedReader name=5>\n",
      "  del self._target, self._args, self._kwargs\n",
      "ResourceWarning: Enable tracemalloc to get the object allocation traceback\n"
     ]
    },
    {
     "name": "stdout",
     "output_type": "stream",
     "text": [
      "Looking in indexes: https://download.pytorch.org/whl/cpu\n",
      "Requirement already satisfied: torch in c:\\anaconda3\\lib\\site-packages (2.5.1)\n",
      "Requirement already satisfied: filelock in c:\\anaconda3\\lib\\site-packages (from torch) (3.19.1)\n",
      "Requirement already satisfied: typing-extensions>=4.8.0 in c:\\anaconda3\\lib\\site-packages (from torch) (4.14.1)\n",
      "Requirement already satisfied: setuptools in c:\\anaconda3\\lib\\site-packages (from torch) (78.1.1)\n",
      "Requirement already satisfied: sympy==1.13.1 in c:\\anaconda3\\lib\\site-packages (from torch) (1.13.1)\n",
      "Requirement already satisfied: networkx in c:\\anaconda3\\lib\\site-packages (from torch) (3.4.2)\n",
      "Requirement already satisfied: jinja2 in c:\\anaconda3\\lib\\site-packages (from torch) (3.1.6)\n",
      "Requirement already satisfied: fsspec in c:\\anaconda3\\lib\\site-packages (from torch) (2025.3.0)\n",
      "Requirement already satisfied: mpmath<1.4,>=1.1.0 in c:\\anaconda3\\lib\\site-packages (from sympy==1.13.1->torch) (1.3.0)\n",
      "Requirement already satisfied: MarkupSafe>=2.0 in c:\\anaconda3\\lib\\site-packages (from jinja2->torch) (3.0.2)\n",
      "Requirement already satisfied: shap in c:\\anaconda3\\lib\\site-packages (0.48.0)\n",
      "Requirement already satisfied: web3 in c:\\anaconda3\\lib\\site-packages (7.13.0)\n",
      "Requirement already satisfied: requests in c:\\anaconda3\\lib\\site-packages (2.32.4)\n",
      "Requirement already satisfied: tenacity in c:\\users\\aniru\\appdata\\roaming\\python\\python312\\site-packages (9.1.2)\n",
      "Requirement already satisfied: sentence-transformers in c:\\anaconda3\\lib\\site-packages (5.1.0)\n",
      "Requirement already satisfied: duckdb in c:\\anaconda3\\lib\\site-packages (1.3.2)\n",
      "Requirement already satisfied: numpy in c:\\anaconda3\\lib\\site-packages (from shap) (2.1.3)\n",
      "Requirement already satisfied: scipy in c:\\anaconda3\\lib\\site-packages (from shap) (1.16.1)\n",
      "Requirement already satisfied: scikit-learn in c:\\anaconda3\\lib\\site-packages (from shap) (1.7.1)\n",
      "Requirement already satisfied: pandas in c:\\anaconda3\\lib\\site-packages (from shap) (2.3.1)\n",
      "Requirement already satisfied: tqdm>=4.27.0 in c:\\anaconda3\\lib\\site-packages (from shap) (4.67.1)\n",
      "Requirement already satisfied: packaging>20.9 in c:\\anaconda3\\lib\\site-packages (from shap) (23.2)\n",
      "Requirement already satisfied: slicer==0.0.8 in c:\\anaconda3\\lib\\site-packages (from shap) (0.0.8)\n",
      "Requirement already satisfied: numba>=0.54 in c:\\anaconda3\\lib\\site-packages (from shap) (0.61.0)\n",
      "Requirement already satisfied: cloudpickle in c:\\users\\aniru\\appdata\\roaming\\python\\python312\\site-packages (from shap) (3.1.1)\n",
      "Requirement already satisfied: typing-extensions in c:\\anaconda3\\lib\\site-packages (from shap) (4.14.1)\n",
      "Requirement already satisfied: eth-abi>=5.0.1 in c:\\anaconda3\\lib\\site-packages (from web3) (5.2.0)\n",
      "Requirement already satisfied: eth-account>=0.13.6 in c:\\anaconda3\\lib\\site-packages (from web3) (0.13.7)\n",
      "Requirement already satisfied: eth-hash>=0.5.1 in c:\\anaconda3\\lib\\site-packages (from eth-hash[pycryptodome]>=0.5.1->web3) (0.7.1)\n",
      "Requirement already satisfied: eth-typing>=5.0.0 in c:\\anaconda3\\lib\\site-packages (from web3) (5.2.1)\n",
      "Requirement already satisfied: eth-utils>=5.0.0 in c:\\anaconda3\\lib\\site-packages (from web3) (5.3.0)\n",
      "Requirement already satisfied: hexbytes>=1.2.0 in c:\\anaconda3\\lib\\site-packages (from web3) (1.3.1)\n",
      "Requirement already satisfied: aiohttp>=3.7.4.post0 in c:\\anaconda3\\lib\\site-packages (from web3) (3.11.10)\n",
      "Requirement already satisfied: pydantic>=2.4.0 in c:\\users\\aniru\\appdata\\roaming\\python\\python312\\site-packages (from web3) (2.11.7)\n",
      "Requirement already satisfied: pywin32>=223 in c:\\anaconda3\\lib\\site-packages (from web3) (308)\n",
      "Requirement already satisfied: types-requests>=2.0.0 in c:\\anaconda3\\lib\\site-packages (from web3) (2.32.4.20250809)\n",
      "Requirement already satisfied: websockets<16.0.0,>=10.0.0 in c:\\users\\aniru\\appdata\\roaming\\python\\python312\\site-packages (from web3) (15.0.1)\n",
      "Requirement already satisfied: pyunormalize>=15.0.0 in c:\\anaconda3\\lib\\site-packages (from web3) (16.0.0)\n",
      "Requirement already satisfied: transformers<5.0.0,>=4.41.0 in c:\\anaconda3\\lib\\site-packages (from sentence-transformers) (4.55.4)\n",
      "Requirement already satisfied: torch>=1.11.0 in c:\\anaconda3\\lib\\site-packages (from sentence-transformers) (2.5.1)\n",
      "Requirement already satisfied: huggingface-hub>=0.20.0 in c:\\anaconda3\\lib\\site-packages (from sentence-transformers) (0.34.4)\n",
      "Requirement already satisfied: Pillow in c:\\anaconda3\\lib\\site-packages (from sentence-transformers) (11.3.0)\n",
      "Requirement already satisfied: filelock in c:\\anaconda3\\lib\\site-packages (from transformers<5.0.0,>=4.41.0->sentence-transformers) (3.19.1)\n",
      "Requirement already satisfied: pyyaml>=5.1 in c:\\anaconda3\\lib\\site-packages (from transformers<5.0.0,>=4.41.0->sentence-transformers) (6.0.2)\n",
      "Requirement already satisfied: regex!=2019.12.17 in c:\\anaconda3\\lib\\site-packages (from transformers<5.0.0,>=4.41.0->sentence-transformers) (2025.7.34)\n",
      "Requirement already satisfied: tokenizers<0.22,>=0.21 in c:\\anaconda3\\lib\\site-packages (from transformers<5.0.0,>=4.41.0->sentence-transformers) (0.21.4)\n",
      "Requirement already satisfied: safetensors>=0.4.3 in c:\\anaconda3\\lib\\site-packages (from transformers<5.0.0,>=4.41.0->sentence-transformers) (0.6.2)\n",
      "Requirement already satisfied: fsspec>=2023.5.0 in c:\\anaconda3\\lib\\site-packages (from huggingface-hub>=0.20.0->sentence-transformers) (2025.3.0)\n",
      "Requirement already satisfied: aiohappyeyeballs>=2.3.0 in c:\\anaconda3\\lib\\site-packages (from aiohttp>=3.7.4.post0->web3) (2.4.4)\n",
      "Requirement already satisfied: aiosignal>=1.1.2 in c:\\anaconda3\\lib\\site-packages (from aiohttp>=3.7.4.post0->web3) (1.2.0)\n",
      "Requirement already satisfied: attrs>=17.3.0 in c:\\anaconda3\\lib\\site-packages (from aiohttp>=3.7.4.post0->web3) (24.3.0)\n",
      "Requirement already satisfied: frozenlist>=1.1.1 in c:\\anaconda3\\lib\\site-packages (from aiohttp>=3.7.4.post0->web3) (1.5.0)\n",
      "Requirement already satisfied: multidict<7.0,>=4.5 in c:\\anaconda3\\lib\\site-packages (from aiohttp>=3.7.4.post0->web3) (6.1.0)\n",
      "Requirement already satisfied: propcache>=0.2.0 in c:\\anaconda3\\lib\\site-packages (from aiohttp>=3.7.4.post0->web3) (0.3.1)\n",
      "Requirement already satisfied: yarl<2.0,>=1.17.0 in c:\\anaconda3\\lib\\site-packages (from aiohttp>=3.7.4.post0->web3) (1.18.0)\n",
      "Requirement already satisfied: idna>=2.0 in c:\\anaconda3\\lib\\site-packages (from yarl<2.0,>=1.17.0->aiohttp>=3.7.4.post0->web3) (3.10)\n",
      "Requirement already satisfied: parsimonious<0.11.0,>=0.10.0 in c:\\anaconda3\\lib\\site-packages (from eth-abi>=5.0.1->web3) (0.10.0)\n",
      "Requirement already satisfied: bitarray>=2.4.0 in c:\\anaconda3\\lib\\site-packages (from eth-account>=0.13.6->web3) (3.6.1)\n",
      "Requirement already satisfied: eth-keyfile<0.9.0,>=0.7.0 in c:\\anaconda3\\lib\\site-packages (from eth-account>=0.13.6->web3) (0.8.1)\n",
      "Requirement already satisfied: eth-keys>=0.4.0 in c:\\anaconda3\\lib\\site-packages (from eth-account>=0.13.6->web3) (0.7.0)\n",
      "Requirement already satisfied: eth-rlp>=2.1.0 in c:\\anaconda3\\lib\\site-packages (from eth-account>=0.13.6->web3) (2.2.0)\n",
      "Requirement already satisfied: rlp>=1.0.0 in c:\\anaconda3\\lib\\site-packages (from eth-account>=0.13.6->web3) (4.1.0)\n",
      "Requirement already satisfied: ckzg>=2.0.0 in c:\\anaconda3\\lib\\site-packages (from eth-account>=0.13.6->web3) (2.1.1)\n",
      "Requirement already satisfied: pycryptodome<4,>=3.6.6 in c:\\anaconda3\\lib\\site-packages (from eth-keyfile<0.9.0,>=0.7.0->eth-account>=0.13.6->web3) (3.23.0)\n",
      "Requirement already satisfied: cytoolz>=0.10.1 in c:\\anaconda3\\lib\\site-packages (from eth-utils>=5.0.0->web3) (1.0.1)\n",
      "Requirement already satisfied: annotated-types>=0.6.0 in c:\\users\\aniru\\appdata\\roaming\\python\\python312\\site-packages (from pydantic>=2.4.0->web3) (0.7.0)\n",
      "Requirement already satisfied: pydantic-core==2.33.2 in c:\\users\\aniru\\appdata\\roaming\\python\\python312\\site-packages (from pydantic>=2.4.0->web3) (2.33.2)\n",
      "Requirement already satisfied: typing-inspection>=0.4.0 in c:\\users\\aniru\\appdata\\roaming\\python\\python312\\site-packages (from pydantic>=2.4.0->web3) (0.4.1)\n",
      "Requirement already satisfied: toolz>=0.8.0 in c:\\users\\aniru\\appdata\\roaming\\python\\python312\\site-packages (from cytoolz>=0.10.1->eth-utils>=5.0.0->web3) (1.0.0)\n",
      "Requirement already satisfied: llvmlite<0.45,>=0.44.0dev0 in c:\\anaconda3\\lib\\site-packages (from numba>=0.54->shap) (0.44.0)\n",
      "Requirement already satisfied: setuptools in c:\\anaconda3\\lib\\site-packages (from torch>=1.11.0->sentence-transformers) (78.1.1)\n",
      "Requirement already satisfied: sympy==1.13.1 in c:\\anaconda3\\lib\\site-packages (from torch>=1.11.0->sentence-transformers) (1.13.1)\n",
      "Requirement already satisfied: networkx in c:\\anaconda3\\lib\\site-packages (from torch>=1.11.0->sentence-transformers) (3.4.2)\n",
      "Requirement already satisfied: jinja2 in c:\\anaconda3\\lib\\site-packages (from torch>=1.11.0->sentence-transformers) (3.1.6)\n",
      "Requirement already satisfied: mpmath<1.4,>=1.1.0 in c:\\anaconda3\\lib\\site-packages (from sympy==1.13.1->torch>=1.11.0->sentence-transformers) (1.3.0)\n",
      "Requirement already satisfied: colorama in c:\\anaconda3\\lib\\site-packages (from tqdm>=4.27.0->shap) (0.4.6)\n",
      "Requirement already satisfied: urllib3>=2 in c:\\anaconda3\\lib\\site-packages (from types-requests>=2.0.0->web3) (2.5.0)\n",
      "Requirement already satisfied: MarkupSafe>=2.0 in c:\\anaconda3\\lib\\site-packages (from jinja2->torch>=1.11.0->sentence-transformers) (3.0.2)\n",
      "Requirement already satisfied: python-dateutil>=2.8.2 in c:\\anaconda3\\lib\\site-packages (from pandas->shap) (2.9.0.post0)\n",
      "Requirement already satisfied: pytz>=2020.1 in c:\\anaconda3\\lib\\site-packages (from pandas->shap) (2025.2)\n",
      "Requirement already satisfied: tzdata>=2022.7 in c:\\anaconda3\\lib\\site-packages (from pandas->shap) (2025.2)\n",
      "Requirement already satisfied: six>=1.5 in c:\\anaconda3\\lib\\site-packages (from python-dateutil>=2.8.2->pandas->shap) (1.17.0)\n",
      "Requirement already satisfied: joblib>=1.2.0 in c:\\anaconda3\\lib\\site-packages (from scikit-learn->shap) (1.5.1)\n",
      "Requirement already satisfied: threadpoolctl>=3.1.0 in c:\\anaconda3\\lib\\site-packages (from scikit-learn->shap) (3.6.0)\n",
      "Requirement already satisfied: matplotlib in c:\\anaconda3\\lib\\site-packages (3.10.5)\n",
      "Requirement already satisfied: seaborn in c:\\anaconda3\\lib\\site-packages (0.13.2)\n",
      "Requirement already satisfied: plotly in c:\\users\\aniru\\appdata\\roaming\\python\\python312\\site-packages (6.2.0)\n",
      "Requirement already satisfied: weasyprint in c:\\anaconda3\\lib\\site-packages (66.0)\n",
      "Requirement already satisfied: fpdf2 in c:\\anaconda3\\lib\\site-packages (2.8.3)\n",
      "Requirement already satisfied: pyarrow in c:\\users\\aniru\\appdata\\roaming\\python\\python312\\site-packages (21.0.0)\n",
      "Requirement already satisfied: contourpy>=1.0.1 in c:\\anaconda3\\lib\\site-packages (from matplotlib) (1.3.1)\n",
      "Requirement already satisfied: cycler>=0.10 in c:\\anaconda3\\lib\\site-packages (from matplotlib) (0.11.0)\n",
      "Requirement already satisfied: fonttools>=4.22.0 in c:\\anaconda3\\lib\\site-packages (from matplotlib) (4.55.3)\n",
      "Requirement already satisfied: kiwisolver>=1.3.1 in c:\\anaconda3\\lib\\site-packages (from matplotlib) (1.4.8)\n",
      "Requirement already satisfied: numpy>=1.23 in c:\\anaconda3\\lib\\site-packages (from matplotlib) (2.1.3)\n",
      "Requirement already satisfied: packaging>=20.0 in c:\\anaconda3\\lib\\site-packages (from matplotlib) (23.2)\n",
      "Requirement already satisfied: pillow>=8 in c:\\anaconda3\\lib\\site-packages (from matplotlib) (11.3.0)\n",
      "Requirement already satisfied: pyparsing>=2.3.1 in c:\\anaconda3\\lib\\site-packages (from matplotlib) (3.2.0)\n",
      "Requirement already satisfied: python-dateutil>=2.7 in c:\\anaconda3\\lib\\site-packages (from matplotlib) (2.9.0.post0)\n",
      "Requirement already satisfied: pandas>=1.2 in c:\\anaconda3\\lib\\site-packages (from seaborn) (2.3.1)\n",
      "Requirement already satisfied: narwhals>=1.15.1 in c:\\users\\aniru\\appdata\\roaming\\python\\python312\\site-packages (from plotly) (2.1.0)\n",
      "Requirement already satisfied: pydyf>=0.11.0 in c:\\anaconda3\\lib\\site-packages (from weasyprint) (0.11.0)\n",
      "Requirement already satisfied: cffi>=0.6 in c:\\users\\aniru\\appdata\\roaming\\python\\python312\\site-packages (from weasyprint) (1.17.1)\n",
      "Requirement already satisfied: tinyhtml5>=2.0.0b1 in c:\\anaconda3\\lib\\site-packages (from weasyprint) (2.0.0)\n",
      "Requirement already satisfied: tinycss2>=1.4.0 in c:\\anaconda3\\lib\\site-packages (from weasyprint) (1.4.0)\n",
      "Requirement already satisfied: cssselect2>=0.8.0 in c:\\anaconda3\\lib\\site-packages (from weasyprint) (0.8.0)\n",
      "Requirement already satisfied: Pyphen>=0.9.1 in c:\\anaconda3\\lib\\site-packages (from weasyprint) (0.17.2)\n",
      "Requirement already satisfied: defusedxml in c:\\anaconda3\\lib\\site-packages (from fpdf2) (0.7.1)\n",
      "Requirement already satisfied: pycparser in c:\\users\\aniru\\appdata\\roaming\\python\\python312\\site-packages (from cffi>=0.6->weasyprint) (2.22)\n",
      "Requirement already satisfied: webencodings in c:\\anaconda3\\lib\\site-packages (from cssselect2>=0.8.0->weasyprint) (0.5.1)\n",
      "Requirement already satisfied: zopfli>=0.1.4 in c:\\anaconda3\\lib\\site-packages (from fonttools[woff]>=4.0.0->weasyprint) (0.2.3.post1)\n",
      "Requirement already satisfied: brotli>=1.0.1 in c:\\users\\aniru\\appdata\\roaming\\python\\python312\\site-packages (from fonttools[woff]>=4.0.0->weasyprint) (1.1.0)\n",
      "Requirement already satisfied: pytz>=2020.1 in c:\\anaconda3\\lib\\site-packages (from pandas>=1.2->seaborn) (2025.2)\n",
      "Requirement already satisfied: tzdata>=2022.7 in c:\\anaconda3\\lib\\site-packages (from pandas>=1.2->seaborn) (2025.2)\n",
      "Requirement already satisfied: six>=1.5 in c:\\anaconda3\\lib\\site-packages (from python-dateutil>=2.7->matplotlib) (1.17.0)\n",
      "Requirement already satisfied: faiss-cpu in c:\\anaconda3\\lib\\site-packages (1.12.0)\n",
      "Requirement already satisfied: numpy<3.0,>=1.25.0 in c:\\anaconda3\\lib\\site-packages (from faiss-cpu) (2.1.3)\n",
      "Requirement already satisfied: packaging in c:\\anaconda3\\lib\\site-packages (from faiss-cpu) (23.2)\n",
      "[onchain] connected. chain_id=11155111\n"
     ]
    },
    {
     "name": "stderr",
     "output_type": "stream",
     "text": [
      "C:\\Anaconda3\\Lib\\importlib\\metadata\\__init__.py:467: DeprecationWarning: Implicit None on return values is deprecated and will raise KeyErrors.\n",
      "  return self.metadata['Version']\n"
     ]
    },
    {
     "name": "stdout",
     "output_type": "stream",
     "text": [
      "WARNING:tensorflow:From C:\\Anaconda3\\Lib\\site-packages\\tf_keras\\src\\losses.py:2976: The name tf.losses.sparse_softmax_cross_entropy is deprecated. Please use tf.compat.v1.losses.sparse_softmax_cross_entropy instead.\n",
      "\n"
     ]
    },
    {
     "name": "stderr",
     "output_type": "stream",
     "text": [
      "Note: Environment variable`HF_TOKEN` is set and is the current active token independently from the token you've just configured.\n"
     ]
    },
    {
     "name": "stdout",
     "output_type": "stream",
     "text": [
      "[secrets] HF_TOKEN set for this session.\n",
      "[secrets] Hugging Face client logged in.\n",
      "[secrets] HF_TOKEN loaded from environment.\n",
      "[rpc] Using real RPC: https://ethereum-sepolia-rpc.publicnode.com\n",
      "[onchain] connected. chain_id=11155111\n",
      "[io] LIVE_CSV = C:\\Users\\aniru\\OneDrive\\Desktop\\ML tutorial\\DEFI Depeg sentinel\\live_dataset.csv\n",
      "[run] sample → zoo → train/score → explain → reports\n",
      "[rpc] Already initialized; not switching modes.\n",
      "[env] Output base: C:\\Users\\aniru\\OneDrive\\Desktop\\ML tutorial\\DEFI Depeg sentinel\n",
      "[chain] mock_mode=False rpc=https://ethereum-sepolia-rpc.publicnode.com\n",
      "[append] 3 rows → C:\\Users\\aniru\\OneDrive\\Desktop\\ML tutorial\\DEFI Depeg sentinel\\live_dataset.csv\n",
      "[zoo] anomaly scores updated\n",
      "[forecast10m] AP=0.602  Brier=0.216  n_te=109  calib=iso3\n",
      "[forecast10m] wrote C:\\Users\\aniru\\OneDrive\\Desktop\\ML tutorial\\DEFI Depeg sentinel\\forecast_10m.parquet\n",
      "[explain] wrote C:\\Users\\aniru\\OneDrive\\Desktop\\ML tutorial\\DEFI Depeg sentinel\\explain.json\n",
      "[network] updated neighbor features & corr/lag on last rows\n",
      "[enrich] wrote event aggregates to live tail rows\n",
      "[note] decide_latest skipped: name 'decide_latest' is not defined\n",
      "[network] updated neighbor features & corr/lag on last rows\n",
      "[ok] Analyst Note exported → C:\\Users\\aniru\\OneDrive\\Desktop\\ML tutorial\\DEFI Depeg sentinel\\analyst_note.pdf\n",
      "{'ok': True, 'note': 'Fused anomaly now=1.00; 10-min risk=0.00. Confidence High. Top drivers: dev (+0.3661±0.0130 AP); anom_fused (+0.0070±0.0177 AP); dev_roll_std (+0.0000±0.0000 AP) Propagation: 3pool_curve co-moves peers (corr=0.00). Action: monitor in 5m; if risk rises above 0.60 or 3 consecutive reds, engage mitigation (widen slippage / reroute).', 'pdf': 'C:\\\\Users\\\\aniru\\\\OneDrive\\\\Desktop\\\\ML tutorial\\\\DEFI Depeg sentinel\\\\analyst_note.pdf'}\n",
      "[report] decide_latest failed: name 'decide_latest' is not defined\n",
      "[ok] Markdown PDF exported → C:\\Users\\aniru\\OneDrive\\Desktop\\ML tutorial\\DEFI Depeg sentinel\\report.pdf\n",
      "{'ok': True, 'markdown': '# Nightly Model Report\\nGenerated: 2025-08-31T23:45:02+00:00\\n\\n## Winner Detector Today\\n- **Winner:** `z_if`  (by AP proxy on |dev|≥0.3%)\\n\\nAP scores:\\n- z_if: 1.000\\n- z_lof: 1.000\\n- z_ae: 1.000\\n- z_ocsvm: 0.793\\n- anom_fused: 0.131\\n- z_cusum: 0.096\\n\\n## Forecast Calibration (10m)\\n- bin≈0.01: observed 0.17 (n=51)\\n- bin≈0.41: observed 0.56 (n=9)\\n\\n## Incidents (last window)\\n- None...', 'pdf': 'C:\\\\Users\\\\aniru\\\\OneDrive\\\\Desktop\\\\ML tutorial\\\\DEFI Depeg sentinel\\\\report.pdf'}\n",
      "[offchain] fetch error https://status.curve.fi/api/v2/status.json: HTTPSConnectionPool(host='status.curve.finance', port=443): Max retries exceeded with url: /api/v2/status.json (Caused by NameResolutionError(\"<urllib3.connection.HTTPSConnection object at 0x0000016C05E97950>: Failed to resolve 'status.curve.finance' ([Errno 11001] getaddrinfo failed)\"))\n",
      "[offchain] events.json updated: 93 events\n",
      "[enrich] wrote event aggregates to live tail rows\n",
      "[ok] RUN_META.json → C:\\Users\\aniru\\OneDrive\\Desktop\\ML tutorial\\DEFI Depeg sentinel\\RUN_META.json\n",
      "[forecast10m] AP=0.602  Brier=0.216  n_te=109  calib=iso3\n",
      "[forecast10m] wrote C:\\Users\\aniru\\OneDrive\\Desktop\\ML tutorial\\DEFI Depeg sentinel\\forecast_10m.parquet\n",
      "[explain] wrote C:\\Users\\aniru\\OneDrive\\Desktop\\ML tutorial\\DEFI Depeg sentinel\\explain.json\n",
      "[note] forecaster step skipped: Invalid classes inferred from unique values of `y`.  Expected: [0], got [1]\n",
      "[network] updated neighbor features & corr/lag on last rows\n",
      "[ok] Analyst Note exported → C:\\Users\\aniru\\OneDrive\\Desktop\\ML tutorial\\DEFI Depeg sentinel\\analyst_note.pdf\n",
      "{'ok': True, 'note': 'Fused anomaly now=1.00; 10-min risk=0.00; 30-min risk=0.86. Confidence High. Top drivers: dev (+0.3661±0.0130 AP); anom_fused (+0.0070±0.0177 AP); dev_roll_std (+0.0000±0.0000 AP) Propagation: 3pool_curve co-moves peers (corr=0.00). Action: monitor in 5m; if risk > 0.60 or 3 consecutive reds, engage mitigation (widen slippage / reroute).', 'pdf': 'C:\\\\Users\\\\aniru\\\\OneDrive\\\\Desktop\\\\ML tutorial\\\\DEFI Depeg sentinel\\\\analyst_note.pdf'}\n",
      "[network] updated neighbor features & corr/lag on last rows\n",
      "[ok] Analyst Note exported → C:\\Users\\aniru\\OneDrive\\Desktop\\ML tutorial\\DEFI Depeg sentinel\\analyst_note.pdf\n",
      "{'ok': True, 'note': 'Fused anomaly now=1.00; 10-min risk=0.00; 30-min risk=0.86. Confidence High. Top drivers: dev (+0.3661±0.0130 AP); anom_fused (+0.0070±0.0177 AP); dev_roll_std (+0.0000±0.0000 AP) Propagation: 3pool_curve co-moves peers (corr=0.00). Action: monitor in 5m; if risk > 0.60 or 3 consecutive reds, engage mitigation (widen slippage / reroute).', 'pdf': 'C:\\\\Users\\\\aniru\\\\OneDrive\\\\Desktop\\\\ML tutorial\\\\DEFI Depeg sentinel\\\\analyst_note.pdf'}\n",
      "[append] 3 rows → C:\\Users\\aniru\\OneDrive\\Desktop\\ML tutorial\\DEFI Depeg sentinel\\live_dataset.csv\n",
      "[zoo] anomaly scores (incl. LSTM AE) updated\n",
      "Requirement already satisfied: transformers in c:\\anaconda3\\lib\\site-packages (4.55.4)\n",
      "Requirement already satisfied: accelerate in c:\\anaconda3\\lib\\site-packages (1.10.1)\n",
      "Requirement already satisfied: sentence-transformers in c:\\anaconda3\\lib\\site-packages (5.1.0)\n",
      "Requirement already satisfied: filelock in c:\\anaconda3\\lib\\site-packages (from transformers) (3.19.1)\n",
      "Requirement already satisfied: huggingface-hub<1.0,>=0.34.0 in c:\\anaconda3\\lib\\site-packages (from transformers) (0.34.4)\n",
      "Requirement already satisfied: numpy>=1.17 in c:\\anaconda3\\lib\\site-packages (from transformers) (2.1.3)\n",
      "Requirement already satisfied: packaging>=20.0 in c:\\anaconda3\\lib\\site-packages (from transformers) (23.2)\n",
      "Requirement already satisfied: pyyaml>=5.1 in c:\\anaconda3\\lib\\site-packages (from transformers) (6.0.2)\n",
      "Requirement already satisfied: regex!=2019.12.17 in c:\\anaconda3\\lib\\site-packages (from transformers) (2025.7.34)\n",
      "Requirement already satisfied: requests in c:\\anaconda3\\lib\\site-packages (from transformers) (2.32.4)\n",
      "Requirement already satisfied: tokenizers<0.22,>=0.21 in c:\\anaconda3\\lib\\site-packages (from transformers) (0.21.4)\n",
      "Requirement already satisfied: safetensors>=0.4.3 in c:\\anaconda3\\lib\\site-packages (from transformers) (0.6.2)\n",
      "Requirement already satisfied: tqdm>=4.27 in c:\\anaconda3\\lib\\site-packages (from transformers) (4.67.1)\n",
      "Requirement already satisfied: fsspec>=2023.5.0 in c:\\anaconda3\\lib\\site-packages (from huggingface-hub<1.0,>=0.34.0->transformers) (2025.3.0)\n",
      "Requirement already satisfied: typing-extensions>=3.7.4.3 in c:\\anaconda3\\lib\\site-packages (from huggingface-hub<1.0,>=0.34.0->transformers) (4.14.1)\n",
      "Requirement already satisfied: psutil in c:\\users\\aniru\\appdata\\roaming\\python\\python312\\site-packages (from accelerate) (7.0.0)\n",
      "Requirement already satisfied: torch>=2.0.0 in c:\\anaconda3\\lib\\site-packages (from accelerate) (2.5.1)\n",
      "Requirement already satisfied: scikit-learn in c:\\anaconda3\\lib\\site-packages (from sentence-transformers) (1.7.1)\n",
      "Requirement already satisfied: scipy in c:\\anaconda3\\lib\\site-packages (from sentence-transformers) (1.16.1)\n",
      "Requirement already satisfied: Pillow in c:\\anaconda3\\lib\\site-packages (from sentence-transformers) (11.3.0)\n",
      "Requirement already satisfied: setuptools in c:\\anaconda3\\lib\\site-packages (from torch>=2.0.0->accelerate) (78.1.1)\n",
      "Requirement already satisfied: sympy==1.13.1 in c:\\anaconda3\\lib\\site-packages (from torch>=2.0.0->accelerate) (1.13.1)\n",
      "Requirement already satisfied: networkx in c:\\anaconda3\\lib\\site-packages (from torch>=2.0.0->accelerate) (3.4.2)\n",
      "Requirement already satisfied: jinja2 in c:\\anaconda3\\lib\\site-packages (from torch>=2.0.0->accelerate) (3.1.6)\n",
      "Requirement already satisfied: mpmath<1.4,>=1.1.0 in c:\\anaconda3\\lib\\site-packages (from sympy==1.13.1->torch>=2.0.0->accelerate) (1.3.0)\n",
      "Requirement already satisfied: colorama in c:\\anaconda3\\lib\\site-packages (from tqdm>=4.27->transformers) (0.4.6)\n",
      "Requirement already satisfied: MarkupSafe>=2.0 in c:\\anaconda3\\lib\\site-packages (from jinja2->torch>=2.0.0->accelerate) (3.0.2)\n",
      "Requirement already satisfied: joblib>=1.2.0 in c:\\anaconda3\\lib\\site-packages (from scikit-learn->sentence-transformers) (1.5.1)\n",
      "Requirement already satisfied: threadpoolctl>=3.1.0 in c:\\anaconda3\\lib\\site-packages (from scikit-learn->sentence-transformers) (3.6.0)\n"
     ]
    },
    {
     "name": "stderr",
     "output_type": "stream",
     "text": [
      "C:\\Anaconda3\\Lib\\site-packages\\IPython\\utils\\_process_win32.py:124: ResourceWarning: unclosed file <_io.BufferedWriter name=3>\n",
      "  return process_handler(cmd, _system_body)\n",
      "ResourceWarning: Enable tracemalloc to get the object allocation traceback\n",
      "C:\\Anaconda3\\Lib\\site-packages\\IPython\\utils\\_process_win32.py:124: ResourceWarning: unclosed file <_io.BufferedReader name=4>\n",
      "  return process_handler(cmd, _system_body)\n",
      "ResourceWarning: Enable tracemalloc to get the object allocation traceback\n",
      "C:\\Anaconda3\\Lib\\site-packages\\IPython\\utils\\_process_win32.py:124: ResourceWarning: unclosed file <_io.BufferedReader name=5>\n",
      "  return process_handler(cmd, _system_body)\n",
      "ResourceWarning: Enable tracemalloc to get the object allocation traceback\n"
     ]
    },
    {
     "name": "stdout",
     "output_type": "stream",
     "text": [
      "Requirement already satisfied: bitsandbytes in c:\\anaconda3\\lib\\site-packages (0.47.0)\n",
      "Requirement already satisfied: torch<3,>=2.2 in c:\\anaconda3\\lib\\site-packages (from bitsandbytes) (2.5.1)\n",
      "Requirement already satisfied: numpy>=1.17 in c:\\anaconda3\\lib\\site-packages (from bitsandbytes) (2.1.3)\n",
      "Requirement already satisfied: filelock in c:\\anaconda3\\lib\\site-packages (from torch<3,>=2.2->bitsandbytes) (3.19.1)\n",
      "Requirement already satisfied: typing-extensions>=4.8.0 in c:\\anaconda3\\lib\\site-packages (from torch<3,>=2.2->bitsandbytes) (4.14.1)\n",
      "Requirement already satisfied: setuptools in c:\\anaconda3\\lib\\site-packages (from torch<3,>=2.2->bitsandbytes) (78.1.1)\n",
      "Requirement already satisfied: sympy==1.13.1 in c:\\anaconda3\\lib\\site-packages (from torch<3,>=2.2->bitsandbytes) (1.13.1)\n",
      "Requirement already satisfied: networkx in c:\\anaconda3\\lib\\site-packages (from torch<3,>=2.2->bitsandbytes) (3.4.2)\n",
      "Requirement already satisfied: jinja2 in c:\\anaconda3\\lib\\site-packages (from torch<3,>=2.2->bitsandbytes) (3.1.6)\n",
      "Requirement already satisfied: fsspec in c:\\anaconda3\\lib\\site-packages (from torch<3,>=2.2->bitsandbytes) (2025.3.0)\n",
      "Requirement already satisfied: mpmath<1.4,>=1.1.0 in c:\\anaconda3\\lib\\site-packages (from sympy==1.13.1->torch<3,>=2.2->bitsandbytes) (1.3.0)\n",
      "Requirement already satisfied: MarkupSafe>=2.0 in c:\\anaconda3\\lib\\site-packages (from jinja2->torch<3,>=2.2->bitsandbytes) (3.0.2)\n",
      "Requirement already satisfied: faiss-cpu in c:\\anaconda3\\lib\\site-packages (1.12.0)\n",
      "Requirement already satisfied: numpy<3.0,>=1.25.0 in c:\\anaconda3\\lib\\site-packages (from faiss-cpu) (2.1.3)\n",
      "Requirement already satisfied: packaging in c:\\anaconda3\\lib\\site-packages (from faiss-cpu) (23.2)\n",
      "[llm] device=cuda dtype=torch.float16\n",
      "[llm] trying google/flan-t5-small in 4bit (auto-map)\n",
      "[llm] trying google/flan-t5-small in 4bit (auto-map)\n",
      "[llm] IE on cuda:0 | NOTE on cuda:0\n",
      "[append] 3 rows → C:\\Users\\aniru\\OneDrive\\Desktop\\ML tutorial\\DEFI Depeg sentinel\\live_dataset.csv\n",
      "[loop 1] 3.71s → sleep 26.29s\n",
      "[append] 3 rows → C:\\Users\\aniru\\OneDrive\\Desktop\\ML tutorial\\DEFI Depeg sentinel\\live_dataset.csv\n",
      "[loop 2] 3.58s → sleep 56.42s\n"
     ]
    }
   ],
   "source": [
    "mods = {}\n",
    "for name in [\n",
    "    \"acceptance_mock\",\n",
    "    \"backtest\",\n",
    "    \"Contract\",       \n",
    "    \"Deployment\",     \n",
    "    \"entrypoint\",\n",
    "    \"runtime\",\n",
    "    \"sentinel\",\n",
    "    \"test_smoke\",\n",
    "]:\n",
    "    try:\n",
    "        mods[name] = import_ipynb_compat(name)\n",
    "        print(f\"[ok] imported {name} (compat)\")\n",
    "    except Exception as e:\n",
    "        print(f\"[fail] {name}: {e}\")"
   ]
  },
  {
   "cell_type": "code",
   "execution_count": null,
   "id": "863aeaaf-f669-4165-9721-8f3ff832e6a7",
   "metadata": {},
   "outputs": [],
   "source": []
  }
 ],
 "metadata": {
  "kernelspec": {
   "display_name": "Python 3 (ipykernel)",
   "language": "python",
   "name": "python3"
  },
  "language_info": {
   "codemirror_mode": {
    "name": "ipython",
    "version": 3
   },
   "file_extension": ".py",
   "mimetype": "text/x-python",
   "name": "python",
   "nbconvert_exporter": "python",
   "pygments_lexer": "ipython3",
   "version": "3.12.7"
  }
 },
 "nbformat": 4,
 "nbformat_minor": 5
}
