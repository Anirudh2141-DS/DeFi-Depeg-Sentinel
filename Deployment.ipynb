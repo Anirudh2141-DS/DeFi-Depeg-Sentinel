{
 "cells": [
  {
   "cell_type": "code",
   "execution_count": 1,
   "id": "98d87e0c-f548-4a2e-815b-ace609aab303",
   "metadata": {
    "scrolled": true
   },
   "outputs": [
    {
     "name": "stdout",
     "output_type": "stream",
     "text": [
      "Requirement already satisfied: python-dotenv in c:\\anaconda3\\lib\\site-packages (1.1.0)\n",
      "Requirement already satisfied: web3 in c:\\anaconda3\\lib\\site-packages (7.13.0)\n",
      "Requirement already satisfied: eth-account in c:\\anaconda3\\lib\\site-packages (0.13.7)\n",
      "Requirement already satisfied: hexbytes in c:\\anaconda3\\lib\\site-packages (1.3.1)\n",
      "Requirement already satisfied: vyper==0.3.10 in c:\\anaconda3\\lib\\site-packages (0.3.10)\n",
      "Requirement already satisfied: cbor2<6,>=5.4.6 in c:\\anaconda3\\lib\\site-packages (from vyper==0.3.10) (5.7.0)\n",
      "Requirement already satisfied: asttokens<3,>=2.0.5 in c:\\anaconda3\\lib\\site-packages (from vyper==0.3.10) (2.4.1)\n",
      "Requirement already satisfied: pycryptodome<4,>=3.5.1 in c:\\anaconda3\\lib\\site-packages (from vyper==0.3.10) (3.23.0)\n",
      "Requirement already satisfied: packaging<24,>=23.1 in c:\\anaconda3\\lib\\site-packages (from vyper==0.3.10) (23.2)\n",
      "Requirement already satisfied: importlib-metadata in c:\\anaconda3\\lib\\site-packages (from vyper==0.3.10) (8.5.0)\n",
      "Requirement already satisfied: wheel in c:\\users\\aniru\\appdata\\roaming\\python\\python312\\site-packages (from vyper==0.3.10) (0.45.1)\n",
      "Requirement already satisfied: six>=1.12.0 in c:\\anaconda3\\lib\\site-packages (from asttokens<3,>=2.0.5->vyper==0.3.10) (1.17.0)\n",
      "Requirement already satisfied: eth-abi>=5.0.1 in c:\\anaconda3\\lib\\site-packages (from web3) (5.2.0)\n",
      "Requirement already satisfied: eth-hash>=0.5.1 in c:\\anaconda3\\lib\\site-packages (from eth-hash[pycryptodome]>=0.5.1->web3) (0.7.1)\n",
      "Requirement already satisfied: eth-typing>=5.0.0 in c:\\anaconda3\\lib\\site-packages (from web3) (5.2.1)\n",
      "Requirement already satisfied: eth-utils>=5.0.0 in c:\\anaconda3\\lib\\site-packages (from web3) (5.3.0)\n",
      "Requirement already satisfied: aiohttp>=3.7.4.post0 in c:\\anaconda3\\lib\\site-packages (from web3) (3.11.10)\n",
      "Requirement already satisfied: pydantic>=2.4.0 in c:\\users\\aniru\\appdata\\roaming\\python\\python312\\site-packages (from web3) (2.11.7)\n",
      "Requirement already satisfied: pywin32>=223 in c:\\anaconda3\\lib\\site-packages (from web3) (308)\n",
      "Requirement already satisfied: requests>=2.23.0 in c:\\anaconda3\\lib\\site-packages (from web3) (2.32.4)\n",
      "Requirement already satisfied: typing-extensions>=4.0.1 in c:\\anaconda3\\lib\\site-packages (from web3) (4.14.1)\n",
      "Requirement already satisfied: types-requests>=2.0.0 in c:\\anaconda3\\lib\\site-packages (from web3) (2.32.4.20250809)\n",
      "Requirement already satisfied: websockets<16.0.0,>=10.0.0 in c:\\users\\aniru\\appdata\\roaming\\python\\python312\\site-packages (from web3) (15.0.1)\n",
      "Requirement already satisfied: pyunormalize>=15.0.0 in c:\\anaconda3\\lib\\site-packages (from web3) (16.0.0)\n",
      "Requirement already satisfied: bitarray>=2.4.0 in c:\\anaconda3\\lib\\site-packages (from eth-account) (3.6.1)\n",
      "Requirement already satisfied: eth-keyfile<0.9.0,>=0.7.0 in c:\\anaconda3\\lib\\site-packages (from eth-account) (0.8.1)\n",
      "Requirement already satisfied: eth-keys>=0.4.0 in c:\\anaconda3\\lib\\site-packages (from eth-account) (0.7.0)\n",
      "Requirement already satisfied: eth-rlp>=2.1.0 in c:\\anaconda3\\lib\\site-packages (from eth-account) (2.2.0)\n",
      "Requirement already satisfied: rlp>=1.0.0 in c:\\anaconda3\\lib\\site-packages (from eth-account) (4.1.0)\n",
      "Requirement already satisfied: ckzg>=2.0.0 in c:\\anaconda3\\lib\\site-packages (from eth-account) (2.1.1)\n",
      "Requirement already satisfied: aiohappyeyeballs>=2.3.0 in c:\\anaconda3\\lib\\site-packages (from aiohttp>=3.7.4.post0->web3) (2.4.4)\n",
      "Requirement already satisfied: aiosignal>=1.1.2 in c:\\anaconda3\\lib\\site-packages (from aiohttp>=3.7.4.post0->web3) (1.2.0)\n",
      "Requirement already satisfied: attrs>=17.3.0 in c:\\anaconda3\\lib\\site-packages (from aiohttp>=3.7.4.post0->web3) (24.3.0)\n",
      "Requirement already satisfied: frozenlist>=1.1.1 in c:\\anaconda3\\lib\\site-packages (from aiohttp>=3.7.4.post0->web3) (1.5.0)\n",
      "Requirement already satisfied: multidict<7.0,>=4.5 in c:\\anaconda3\\lib\\site-packages (from aiohttp>=3.7.4.post0->web3) (6.1.0)\n",
      "Requirement already satisfied: propcache>=0.2.0 in c:\\anaconda3\\lib\\site-packages (from aiohttp>=3.7.4.post0->web3) (0.3.1)\n",
      "Requirement already satisfied: yarl<2.0,>=1.17.0 in c:\\anaconda3\\lib\\site-packages (from aiohttp>=3.7.4.post0->web3) (1.18.0)\n",
      "Requirement already satisfied: idna>=2.0 in c:\\anaconda3\\lib\\site-packages (from yarl<2.0,>=1.17.0->aiohttp>=3.7.4.post0->web3) (3.10)\n",
      "Requirement already satisfied: parsimonious<0.11.0,>=0.10.0 in c:\\anaconda3\\lib\\site-packages (from eth-abi>=5.0.1->web3) (0.10.0)\n",
      "Requirement already satisfied: regex>=2022.3.15 in c:\\anaconda3\\lib\\site-packages (from parsimonious<0.11.0,>=0.10.0->eth-abi>=5.0.1->web3) (2025.7.34)\n",
      "Requirement already satisfied: cytoolz>=0.10.1 in c:\\anaconda3\\lib\\site-packages (from eth-utils>=5.0.0->web3) (1.0.1)\n",
      "Requirement already satisfied: annotated-types>=0.6.0 in c:\\users\\aniru\\appdata\\roaming\\python\\python312\\site-packages (from pydantic>=2.4.0->web3) (0.7.0)\n",
      "Requirement already satisfied: pydantic-core==2.33.2 in c:\\users\\aniru\\appdata\\roaming\\python\\python312\\site-packages (from pydantic>=2.4.0->web3) (2.33.2)\n",
      "Requirement already satisfied: typing-inspection>=0.4.0 in c:\\users\\aniru\\appdata\\roaming\\python\\python312\\site-packages (from pydantic>=2.4.0->web3) (0.4.1)\n",
      "Requirement already satisfied: toolz>=0.8.0 in c:\\users\\aniru\\appdata\\roaming\\python\\python312\\site-packages (from cytoolz>=0.10.1->eth-utils>=5.0.0->web3) (1.0.0)\n",
      "Requirement already satisfied: urllib3>=2 in c:\\anaconda3\\lib\\site-packages (from types-requests>=2.0.0->web3) (2.5.0)\n",
      "Requirement already satisfied: zipp>=3.20 in c:\\anaconda3\\lib\\site-packages (from importlib-metadata->vyper==0.3.10) (3.21.0)\n"
     ]
    }
   ],
   "source": [
    "!pip install --disable-pip-version-check python-dotenv web3 eth-account hexbytes vyper==0.3.10"
   ]
  },
  {
   "cell_type": "code",
   "execution_count": 2,
   "id": "7ae081c6-94d3-44e1-b438-8b8bdee28fcf",
   "metadata": {},
   "outputs": [],
   "source": [
    "import os, re, time, textwrap\n",
    "from pathlib import Path\n",
    "from dotenv import load_dotenv, set_key\n",
    "from eth_account import Account\n",
    "from web3 import Web3\n",
    "from vyper import compile_codes"
   ]
  },
  {
   "cell_type": "code",
   "execution_count": 3,
   "id": "702eed3b-859f-4c5e-aaea-fa25525dde5c",
   "metadata": {},
   "outputs": [],
   "source": [
    "ENV_PATH = r\"C:\\Users\\aniru\\OneDrive\\Desktop\\ML tutorial\\DEFI Depeg sentinel\\python\\.env\""
   ]
  },
  {
   "cell_type": "code",
   "execution_count": 4,
   "id": "6f31815e-ced6-4965-9609-7c63a3aa2f03",
   "metadata": {},
   "outputs": [],
   "source": [
    "AUTO_WAIT_FOR_FUNDS = True\n",
    "POLL_EVERY_SECS = 8\n",
    "GAS_LIMIT_DEPLOY = 500_000\n",
    "GAS_LIMIT_WRITE  = 200_000"
   ]
  },
  {
   "cell_type": "code",
   "execution_count": 5,
   "id": "31007c4c-1142-4c78-8c04-d678edb7c302",
   "metadata": {},
   "outputs": [],
   "source": [
    "RPC_CANDIDATES = [\n",
    "    \"https://ethereum-sepolia-rpc.publicnode.com\",\n",
    "    \"https://1rpc.io/sepolia\",\n",
    "    \"https://rpc.sepolia.org\",\n",
    "    \"https://rpc2.sepolia.org\",\n",
    "]\n",
    "CHAIN_ID = 11155111"
   ]
  },
  {
   "cell_type": "code",
   "execution_count": 17,
   "id": "5df38b99-3a4d-4aa4-9b7e-78519a9fb6a3",
   "metadata": {},
   "outputs": [],
   "source": [
    "Path(ENV_PATH).parent.mkdir(parents=True, exist_ok=True)\n",
    "if not Path(ENV_PATH).exists():\n",
    "    Path(ENV_PATH).write_text(textwrap.dedent(\"\"\"\\\n",
    "        # TESTNET ONLY — never put real mainnet keys here\n",
    "        SEPOLIA_RPC=\n",
    "        PRIVATE_KEY=\n",
    "        ACCOUNT_ADDRESS=\n",
    "    \"\"\"))\n",
    "    raise SystemExit(f\"[init] Template .env created at {ENV_PATH}. Paste your MetaMask TEST private key + RPC, then re-run.\")\n",
    "load_dotenv(ENV_PATH, override=True)\n",
    "SEPOLIA_RPC = (os.getenv(\"SEPOLIA_RPC\") or \"\").strip()\n",
    "PRIVATE_KEY  = (os.getenv(\"PRIVATE_KEY\")  or \"\").strip()\n",
    "ACCOUNT_ADDR = (os.getenv(\"ACCOUNT_ADDRESS\") or \"\").strip()"
   ]
  },
  {
   "cell_type": "code",
   "execution_count": 18,
   "id": "dfc85bd8-cc13-4fd7-aea2-a174e949c610",
   "metadata": {},
   "outputs": [],
   "source": [
    "def _fix_pk(pk: str) -> str:\n",
    "    pk = (pk or \"\").strip().replace('\"','').replace(\"'\",\"\").replace(\" \",\"\")\n",
    "    if not pk.startswith(\"0x\"): pk = \"0x\" + pk\n",
    "    if len(pk) != 66 or not re.fullmatch(r\"0x[0-9a-fA-F]{64}\", pk):\n",
    "        raise ValueError(\"PRIVATE_KEY must be 0x + 64 hex chars (export from MetaMask TEST account).\")\n",
    "    return pk\n",
    "if not PRIVATE_KEY:\n",
    "    raise ValueError(\"PRIVATE_KEY missing in .env. Export from MetaMask (TEST account), paste into .env, re-run.\")\n",
    "PRIVATE_KEY = _fix_pk(PRIVATE_KEY)\n",
    "acct = Account.from_key(PRIVATE_KEY)\n",
    "if not ACCOUNT_ADDR or ACCOUNT_ADDR.lower() != acct.address.lower():\n",
    "    ACCOUNT_ADDR = acct.address\n",
    "    set_key(ENV_PATH, \"ACCOUNT_ADDRESS\", ACCOUNT_ADDR)\n",
    "candidates = [SEPOLIA_RPC] + RPC_CANDIDATES if SEPOLIA_RPC else RPC_CANDIDATES"
   ]
  },
  {
   "cell_type": "code",
   "execution_count": 19,
   "id": "d4fb1fbc-1312-4441-b8e8-31494ebb11f7",
   "metadata": {},
   "outputs": [
    {
     "name": "stdout",
     "output_type": "stream",
     "text": [
      "[rpc] Connected → https://ethereum-sepolia-rpc.publicnode.com\n",
      "[acct] Deployer: 0xd437f22b71CB94f1A9724d3A60a98B08f825C1a8\n"
     ]
    }
   ],
   "source": [
    "def connect_any(urls):\n",
    "    last_err = None\n",
    "    for url in urls:\n",
    "        if not url: \n",
    "            continue\n",
    "        try:\n",
    "            w3 = Web3(Web3.HTTPProvider(url, request_kwargs={\"timeout\": 20}))\n",
    "            if w3.is_connected():\n",
    "                return w3, url\n",
    "        except Exception as e:\n",
    "            last_err = e\n",
    "    raise RuntimeError(f\"No working Sepolia RPC. Set SEPOLIA_RPC in {ENV_PATH}. Last error: {last_err}\")\n",
    "w3, ACTIVE_RPC = connect_any(candidates)\n",
    "if ACTIVE_RPC != SEPOLIA_RPC:\n",
    "    set_key(ENV_PATH, \"SEPOLIA_RPC\", ACTIVE_RPC)\n",
    "print(f\"[rpc] Connected → {ACTIVE_RPC}\")\n",
    "print(f\"[acct] Deployer: {ACCOUNT_ADDR}\")"
   ]
  },
  {
   "cell_type": "code",
   "execution_count": 20,
   "id": "a8c8da2e-f93d-401b-ad51-29c6221fca0b",
   "metadata": {},
   "outputs": [
    {
     "name": "stdout",
     "output_type": "stream",
     "text": [
      "[preflight] Balance: 0.05 ETH | Worst-case deploy cap: ~0.000752063927 ETH\n"
     ]
    }
   ],
   "source": [
    "def get_fee_params(w3: Web3):\n",
    "    try:\n",
    "        base = w3.eth.get_block(\"latest\")[\"baseFeePerGas\"]\n",
    "        max_priority = w3.to_wei(\"1.5\", \"gwei\")\n",
    "        max_fee = int(base * 2 + max_priority)\n",
    "    except Exception:\n",
    "        max_priority = w3.to_wei(\"1.5\", \"gwei\")\n",
    "        max_fee = w3.to_wei(\"30\", \"gwei\")\n",
    "    return max_fee, max_priority\n",
    "max_fee, max_priority = get_fee_params(w3)\n",
    "eth = lambda n: w3.from_wei(n, \"ether\")\n",
    "bal_wei = w3.eth.get_balance(ACCOUNT_ADDR)\n",
    "cap_wei = GAS_LIMIT_DEPLOY * max_fee    \n",
    "print(f\"[preflight] Balance: {eth(bal_wei)} ETH | Worst-case deploy cap: ~{eth(cap_wei)} ETH\")"
   ]
  },
  {
   "cell_type": "code",
   "execution_count": 21,
   "id": "abdca9d7-6304-473a-a3d8-31971e190475",
   "metadata": {},
   "outputs": [],
   "source": [
    "def wait_for_funds(required_wei, check_every=POLL_EVERY_SECS):\n",
    "    print(f\"[wait] Need ≥ ~{eth(required_wei)} ETH on Sepolia.\")\n",
    "    while True:\n",
    "        b = w3.eth.get_balance(ACCOUNT_ADDR)\n",
    "        print(f\"  → {ACCOUNT_ADDR} has {eth(b)} ETH\")\n",
    "        if b >= required_wei:\n",
    "            print(\"[wait] Funds detected.\")\n",
    "            return b\n",
    "        if not AUTO_WAIT_FOR_FUNDS:\n",
    "            raise RuntimeError(\"Insufficient funds. Faucet some Sepolia ETH to this address, then re-run.\")\n",
    "        time.sleep(check_every)\n",
    "if bal_wei < cap_wei:\n",
    "    bal_wei = wait_for_funds(cap_wei)"
   ]
  },
  {
   "cell_type": "code",
   "execution_count": 22,
   "id": "b850fb53-21d6-4717-b638-422944c882cd",
   "metadata": {},
   "outputs": [
    {
     "name": "stdout",
     "output_type": "stream",
     "text": [
      "[vyper] ABI entries: 3 | bytecode bytes: 304\n"
     ]
    }
   ],
   "source": [
    "vy_src = \"\"\"\n",
    "# @version 0.3.10\n",
    "stored: public(uint256)\n",
    "@external\n",
    "def __init__(x: uint256):\n",
    "    self.stored = x\n",
    "@external\n",
    "def set(x: uint256):\n",
    "    self.stored = x\n",
    "\"\"\"\n",
    "compiled = compile_codes({\"Store.vy\": vy_src}, output_formats=[\"abi\",\"bytecode\"], interface_codes={})\n",
    "abi = compiled[\"Store.vy\"][\"abi\"]\n",
    "bytecode = compiled[\"Store.vy\"][\"bytecode\"]\n",
    "print(f\"[vyper] ABI entries: {len(abi)} | bytecode bytes: {len(bytecode)}\")"
   ]
  },
  {
   "cell_type": "code",
   "execution_count": 23,
   "id": "cbafc18d-8f4e-44b6-bc39-8742b7109cda",
   "metadata": {},
   "outputs": [],
   "source": [
    "def send_raw(w3: Web3, signed_obj):\n",
    "    raw = getattr(signed_obj, \"rawTransaction\", None)\n",
    "    if raw is None:\n",
    "        raw = getattr(signed_obj, \"raw_transaction\", None)\n",
    "    if raw is None and hasattr(signed_obj, \"raw\"):\n",
    "        raw = signed_obj.raw\n",
    "    if raw is None:\n",
    "        raise RuntimeError(\"SignedTransaction has no raw bytes (check web3/eth-account versions).\")\n",
    "    return w3.eth.send_raw_transaction(raw)"
   ]
  },
  {
   "cell_type": "code",
   "execution_count": 24,
   "id": "e534108c-e63b-4baf-823e-f4c418afa08d",
   "metadata": {},
   "outputs": [],
   "source": [
    "Store = w3.eth.contract(abi=abi, bytecode=bytecode)\n",
    "nonce = w3.eth.get_transaction_count(ACCOUNT_ADDR)\n",
    "unsigned = Store.constructor(123).build_transaction({\n",
    "    \"chainId\": CHAIN_ID,\n",
    "    \"from\": ACCOUNT_ADDR,\n",
    "    \"nonce\": nonce,\n",
    "    \"maxFeePerGas\": max_fee,\n",
    "    \"maxPriorityFeePerGas\": max_priority,\n",
    "    \"gas\": GAS_LIMIT_DEPLOY,   \n",
    "})"
   ]
  },
  {
   "cell_type": "code",
   "execution_count": 25,
   "id": "a7147d77-e746-4165-abf1-d4bdb4f162d1",
   "metadata": {},
   "outputs": [
    {
     "name": "stdout",
     "output_type": "stream",
     "text": [
      "[deploy] Refined gas: 117447\n",
      "[deploy] tx: e6ef1ecdc8613fa28133e92632cd9153b039f021658be758ec83d78734c55c8d\n",
      "[deploy] Contract @ 0x4eD937C4fcD3830E2dc6F5503dfF6E3b074D6623\n"
     ]
    }
   ],
   "source": [
    "try:\n",
    "    est = w3.eth.estimate_gas(unsigned)\n",
    "    unsigned[\"gas\"] = int(est * 1.2)\n",
    "    print(\"[deploy] Refined gas:\", unsigned[\"gas\"])\n",
    "except Exception:\n",
    "    print(\"[deploy] Using GAS_LIMIT_DEPLOY:\", unsigned[\"gas\"])\n",
    "signed = acct.sign_transaction(unsigned)\n",
    "tx_hash = send_raw(w3, signed)\n",
    "print(\"[deploy] tx:\", tx_hash.hex())\n",
    "rc = w3.eth.wait_for_transaction_receipt(tx_hash, timeout=240)\n",
    "if rc.status != 1:\n",
    "    raise RuntimeError(\"Deployment failed (status != 1).\")\n",
    "STORE_ADDR = rc.contractAddress\n",
    "print(\"[deploy] Contract @\", STORE_ADDR)"
   ]
  },
  {
   "cell_type": "code",
   "execution_count": 26,
   "id": "25f3a7ae-d0d5-49f3-992f-0dae1593a880",
   "metadata": {},
   "outputs": [
    {
     "name": "stdout",
     "output_type": "stream",
     "text": [
      "[call] stored() before: 123\n",
      "[write] tx: 30baf508aa32a9f661b2a6e1ca62b188143db2ca5491a41cc7c69ca732195421\n",
      "[call] stored() after: 999\n",
      "Sepolia deploy + interaction complete (signed by your MetaMask account).\n"
     ]
    }
   ],
   "source": [
    "store = w3.eth.contract(address=STORE_ADDR, abi=abi)\n",
    "print(\"[call] stored() before:\", store.functions.stored().call())\n",
    "nonce2 = w3.eth.get_transaction_count(ACCOUNT_ADDR)\n",
    "tx = store.functions.set(999).build_transaction({\n",
    "    \"chainId\": CHAIN_ID,\n",
    "    \"from\": ACCOUNT_ADDR,\n",
    "    \"nonce\": nonce2,\n",
    "    \"maxFeePerGas\": max_fee,\n",
    "    \"maxPriorityFeePerGas\": max_priority,\n",
    "    \"gas\": GAS_LIMIT_WRITE,  \n",
    "})\n",
    "signed2 = acct.sign_transaction(tx)\n",
    "h = send_raw(w3, signed2)\n",
    "print(\"[write] tx:\", h.hex())\n",
    "rc2 = w3.eth.wait_for_transaction_receipt(h, timeout=240)\n",
    "if rc2.status != 1:\n",
    "    raise RuntimeError(\"set() failed (status != 1).\")\n",
    "print(\"[call] stored() after:\", store.functions.stored().call())\n",
    "print(\"Sepolia deploy + interaction complete (signed by your MetaMask account).\")"
   ]
  },
  {
   "cell_type": "code",
   "execution_count": 27,
   "id": "b8de73cd-be47-4129-9517-8b2556dd6715",
   "metadata": {},
   "outputs": [
    {
     "name": "stdout",
     "output_type": "stream",
     "text": [
      "[runtime] ETH_RPC set for your app: https://ethereum-sepolia-rpc.publicnode.com\n"
     ]
    }
   ],
   "source": [
    "os.environ[\"ETH_RPC\"] = ACTIVE_RPC\n",
    "os.environ[\"MOCK_MODE\"] = \"0\"\n",
    "print(\"[runtime] ETH_RPC set for your app:\", os.environ[\"ETH_RPC\"])"
   ]
  }
 ],
 "metadata": {
  "kernelspec": {
   "display_name": "Python 3 (ipykernel)",
   "language": "python",
   "name": "python3"
  },
  "language_info": {
   "codemirror_mode": {
    "name": "ipython",
    "version": 3
   },
   "file_extension": ".py",
   "mimetype": "text/x-python",
   "name": "python",
   "nbconvert_exporter": "python",
   "pygments_lexer": "ipython3",
   "version": "3.12.7"
  }
 },
 "nbformat": 4,
 "nbformat_minor": 5
}
